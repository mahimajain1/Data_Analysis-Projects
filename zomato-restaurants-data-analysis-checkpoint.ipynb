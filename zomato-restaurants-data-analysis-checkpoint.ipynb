{
 "cells": [
  {
   "cell_type": "code",
   "execution_count": null,
   "metadata": {
    "papermill": {
     "duration": 0.062235,
     "end_time": "2021-06-20T09:11:28.087322",
     "exception": false,
     "start_time": "2021-06-20T09:11:28.025087",
     "status": "completed"
    },
    "tags": []
   },
   "outputs": [],
   "source": []
  },
  {
   "cell_type": "markdown",
   "metadata": {
    "papermill": {
     "duration": 0.062009,
     "end_time": "2021-06-20T09:11:28.212418",
     "exception": false,
     "start_time": "2021-06-20T09:11:28.150409",
     "status": "completed"
    },
    "tags": []
   },
   "source": [
    "# Importing necessary library"
   ]
  },
  {
   "cell_type": "code",
   "execution_count": 96,
   "metadata": {
    "execution": {
     "iopub.execute_input": "2021-06-20T09:11:28.347811Z",
     "iopub.status.busy": "2021-06-20T09:11:28.347177Z",
     "iopub.status.idle": "2021-06-20T09:11:29.233491Z",
     "shell.execute_reply": "2021-06-20T09:11:29.233995Z"
    },
    "papermill": {
     "duration": 0.959173,
     "end_time": "2021-06-20T09:11:29.234298",
     "exception": false,
     "start_time": "2021-06-20T09:11:28.275125",
     "status": "completed"
    },
    "tags": []
   },
   "outputs": [],
   "source": [
    "import numpy as np\n",
    "import matplotlib.pyplot as plt\n",
    "import seaborn as sns\n",
    "import pandas as pd"
   ]
  },
  {
   "cell_type": "code",
   "execution_count": 98,
   "metadata": {
    "execution": {
     "iopub.execute_input": "2021-06-20T09:11:29.366982Z",
     "iopub.status.busy": "2021-06-20T09:11:29.366263Z",
     "iopub.status.idle": "2021-06-20T09:11:40.999924Z",
     "shell.execute_reply": "2021-06-20T09:11:40.998914Z",
     "shell.execute_reply.started": "2021-06-20T07:40:55.274998Z"
    },
    "papermill": {
     "duration": 11.701622,
     "end_time": "2021-06-20T09:11:41.000074",
     "exception": false,
     "start_time": "2021-06-20T09:11:29.298452",
     "status": "completed"
    },
    "tags": []
   },
   "outputs": [
    {
     "ename": "FileNotFoundError",
     "evalue": "[Errno 2] No such file or directory: '..//Downloads//.ipynb_checkpoints//zomato.csv'",
     "output_type": "error",
     "traceback": [
      "\u001b[1;31m---------------------------------------------------------------------------\u001b[0m",
      "\u001b[1;31mFileNotFoundError\u001b[0m                         Traceback (most recent call last)",
      "\u001b[1;32m<ipython-input-98-3fb20f38f980>\u001b[0m in \u001b[0;36m<module>\u001b[1;34m\u001b[0m\n\u001b[1;32m----> 1\u001b[1;33m \u001b[0mdata\u001b[0m\u001b[1;33m=\u001b[0m\u001b[0mpd\u001b[0m\u001b[1;33m.\u001b[0m\u001b[0mread_csv\u001b[0m\u001b[1;33m(\u001b[0m\u001b[1;34m'..//Downloads//.ipynb_checkpoints//zomato.csv'\u001b[0m\u001b[1;33m)\u001b[0m\u001b[1;33m\u001b[0m\u001b[1;33m\u001b[0m\u001b[0m\n\u001b[0m",
      "\u001b[1;32mE:\\Anaconda\\lib\\site-packages\\pandas\\io\\parsers.py\u001b[0m in \u001b[0;36mread_csv\u001b[1;34m(filepath_or_buffer, sep, delimiter, header, names, index_col, usecols, squeeze, prefix, mangle_dupe_cols, dtype, engine, converters, true_values, false_values, skipinitialspace, skiprows, skipfooter, nrows, na_values, keep_default_na, na_filter, verbose, skip_blank_lines, parse_dates, infer_datetime_format, keep_date_col, date_parser, dayfirst, cache_dates, iterator, chunksize, compression, thousands, decimal, lineterminator, quotechar, quoting, doublequote, escapechar, comment, encoding, dialect, error_bad_lines, warn_bad_lines, delim_whitespace, low_memory, memory_map, float_precision)\u001b[0m\n\u001b[0;32m    684\u001b[0m     )\n\u001b[0;32m    685\u001b[0m \u001b[1;33m\u001b[0m\u001b[0m\n\u001b[1;32m--> 686\u001b[1;33m     \u001b[1;32mreturn\u001b[0m \u001b[0m_read\u001b[0m\u001b[1;33m(\u001b[0m\u001b[0mfilepath_or_buffer\u001b[0m\u001b[1;33m,\u001b[0m \u001b[0mkwds\u001b[0m\u001b[1;33m)\u001b[0m\u001b[1;33m\u001b[0m\u001b[1;33m\u001b[0m\u001b[0m\n\u001b[0m\u001b[0;32m    687\u001b[0m \u001b[1;33m\u001b[0m\u001b[0m\n\u001b[0;32m    688\u001b[0m \u001b[1;33m\u001b[0m\u001b[0m\n",
      "\u001b[1;32mE:\\Anaconda\\lib\\site-packages\\pandas\\io\\parsers.py\u001b[0m in \u001b[0;36m_read\u001b[1;34m(filepath_or_buffer, kwds)\u001b[0m\n\u001b[0;32m    450\u001b[0m \u001b[1;33m\u001b[0m\u001b[0m\n\u001b[0;32m    451\u001b[0m     \u001b[1;31m# Create the parser.\u001b[0m\u001b[1;33m\u001b[0m\u001b[1;33m\u001b[0m\u001b[1;33m\u001b[0m\u001b[0m\n\u001b[1;32m--> 452\u001b[1;33m     \u001b[0mparser\u001b[0m \u001b[1;33m=\u001b[0m \u001b[0mTextFileReader\u001b[0m\u001b[1;33m(\u001b[0m\u001b[0mfp_or_buf\u001b[0m\u001b[1;33m,\u001b[0m \u001b[1;33m**\u001b[0m\u001b[0mkwds\u001b[0m\u001b[1;33m)\u001b[0m\u001b[1;33m\u001b[0m\u001b[1;33m\u001b[0m\u001b[0m\n\u001b[0m\u001b[0;32m    453\u001b[0m \u001b[1;33m\u001b[0m\u001b[0m\n\u001b[0;32m    454\u001b[0m     \u001b[1;32mif\u001b[0m \u001b[0mchunksize\u001b[0m \u001b[1;32mor\u001b[0m \u001b[0miterator\u001b[0m\u001b[1;33m:\u001b[0m\u001b[1;33m\u001b[0m\u001b[1;33m\u001b[0m\u001b[0m\n",
      "\u001b[1;32mE:\\Anaconda\\lib\\site-packages\\pandas\\io\\parsers.py\u001b[0m in \u001b[0;36m__init__\u001b[1;34m(self, f, engine, **kwds)\u001b[0m\n\u001b[0;32m    944\u001b[0m             \u001b[0mself\u001b[0m\u001b[1;33m.\u001b[0m\u001b[0moptions\u001b[0m\u001b[1;33m[\u001b[0m\u001b[1;34m\"has_index_names\"\u001b[0m\u001b[1;33m]\u001b[0m \u001b[1;33m=\u001b[0m \u001b[0mkwds\u001b[0m\u001b[1;33m[\u001b[0m\u001b[1;34m\"has_index_names\"\u001b[0m\u001b[1;33m]\u001b[0m\u001b[1;33m\u001b[0m\u001b[1;33m\u001b[0m\u001b[0m\n\u001b[0;32m    945\u001b[0m \u001b[1;33m\u001b[0m\u001b[0m\n\u001b[1;32m--> 946\u001b[1;33m         \u001b[0mself\u001b[0m\u001b[1;33m.\u001b[0m\u001b[0m_make_engine\u001b[0m\u001b[1;33m(\u001b[0m\u001b[0mself\u001b[0m\u001b[1;33m.\u001b[0m\u001b[0mengine\u001b[0m\u001b[1;33m)\u001b[0m\u001b[1;33m\u001b[0m\u001b[1;33m\u001b[0m\u001b[0m\n\u001b[0m\u001b[0;32m    947\u001b[0m \u001b[1;33m\u001b[0m\u001b[0m\n\u001b[0;32m    948\u001b[0m     \u001b[1;32mdef\u001b[0m \u001b[0mclose\u001b[0m\u001b[1;33m(\u001b[0m\u001b[0mself\u001b[0m\u001b[1;33m)\u001b[0m\u001b[1;33m:\u001b[0m\u001b[1;33m\u001b[0m\u001b[1;33m\u001b[0m\u001b[0m\n",
      "\u001b[1;32mE:\\Anaconda\\lib\\site-packages\\pandas\\io\\parsers.py\u001b[0m in \u001b[0;36m_make_engine\u001b[1;34m(self, engine)\u001b[0m\n\u001b[0;32m   1176\u001b[0m     \u001b[1;32mdef\u001b[0m \u001b[0m_make_engine\u001b[0m\u001b[1;33m(\u001b[0m\u001b[0mself\u001b[0m\u001b[1;33m,\u001b[0m \u001b[0mengine\u001b[0m\u001b[1;33m=\u001b[0m\u001b[1;34m\"c\"\u001b[0m\u001b[1;33m)\u001b[0m\u001b[1;33m:\u001b[0m\u001b[1;33m\u001b[0m\u001b[1;33m\u001b[0m\u001b[0m\n\u001b[0;32m   1177\u001b[0m         \u001b[1;32mif\u001b[0m \u001b[0mengine\u001b[0m \u001b[1;33m==\u001b[0m \u001b[1;34m\"c\"\u001b[0m\u001b[1;33m:\u001b[0m\u001b[1;33m\u001b[0m\u001b[1;33m\u001b[0m\u001b[0m\n\u001b[1;32m-> 1178\u001b[1;33m             \u001b[0mself\u001b[0m\u001b[1;33m.\u001b[0m\u001b[0m_engine\u001b[0m \u001b[1;33m=\u001b[0m \u001b[0mCParserWrapper\u001b[0m\u001b[1;33m(\u001b[0m\u001b[0mself\u001b[0m\u001b[1;33m.\u001b[0m\u001b[0mf\u001b[0m\u001b[1;33m,\u001b[0m \u001b[1;33m**\u001b[0m\u001b[0mself\u001b[0m\u001b[1;33m.\u001b[0m\u001b[0moptions\u001b[0m\u001b[1;33m)\u001b[0m\u001b[1;33m\u001b[0m\u001b[1;33m\u001b[0m\u001b[0m\n\u001b[0m\u001b[0;32m   1179\u001b[0m         \u001b[1;32melse\u001b[0m\u001b[1;33m:\u001b[0m\u001b[1;33m\u001b[0m\u001b[1;33m\u001b[0m\u001b[0m\n\u001b[0;32m   1180\u001b[0m             \u001b[1;32mif\u001b[0m \u001b[0mengine\u001b[0m \u001b[1;33m==\u001b[0m \u001b[1;34m\"python\"\u001b[0m\u001b[1;33m:\u001b[0m\u001b[1;33m\u001b[0m\u001b[1;33m\u001b[0m\u001b[0m\n",
      "\u001b[1;32mE:\\Anaconda\\lib\\site-packages\\pandas\\io\\parsers.py\u001b[0m in \u001b[0;36m__init__\u001b[1;34m(self, src, **kwds)\u001b[0m\n\u001b[0;32m   2006\u001b[0m         \u001b[0mkwds\u001b[0m\u001b[1;33m[\u001b[0m\u001b[1;34m\"usecols\"\u001b[0m\u001b[1;33m]\u001b[0m \u001b[1;33m=\u001b[0m \u001b[0mself\u001b[0m\u001b[1;33m.\u001b[0m\u001b[0musecols\u001b[0m\u001b[1;33m\u001b[0m\u001b[1;33m\u001b[0m\u001b[0m\n\u001b[0;32m   2007\u001b[0m \u001b[1;33m\u001b[0m\u001b[0m\n\u001b[1;32m-> 2008\u001b[1;33m         \u001b[0mself\u001b[0m\u001b[1;33m.\u001b[0m\u001b[0m_reader\u001b[0m \u001b[1;33m=\u001b[0m \u001b[0mparsers\u001b[0m\u001b[1;33m.\u001b[0m\u001b[0mTextReader\u001b[0m\u001b[1;33m(\u001b[0m\u001b[0msrc\u001b[0m\u001b[1;33m,\u001b[0m \u001b[1;33m**\u001b[0m\u001b[0mkwds\u001b[0m\u001b[1;33m)\u001b[0m\u001b[1;33m\u001b[0m\u001b[1;33m\u001b[0m\u001b[0m\n\u001b[0m\u001b[0;32m   2009\u001b[0m         \u001b[0mself\u001b[0m\u001b[1;33m.\u001b[0m\u001b[0munnamed_cols\u001b[0m \u001b[1;33m=\u001b[0m \u001b[0mself\u001b[0m\u001b[1;33m.\u001b[0m\u001b[0m_reader\u001b[0m\u001b[1;33m.\u001b[0m\u001b[0munnamed_cols\u001b[0m\u001b[1;33m\u001b[0m\u001b[1;33m\u001b[0m\u001b[0m\n\u001b[0;32m   2010\u001b[0m \u001b[1;33m\u001b[0m\u001b[0m\n",
      "\u001b[1;32mpandas\\_libs\\parsers.pyx\u001b[0m in \u001b[0;36mpandas._libs.parsers.TextReader.__cinit__\u001b[1;34m()\u001b[0m\n",
      "\u001b[1;32mpandas\\_libs\\parsers.pyx\u001b[0m in \u001b[0;36mpandas._libs.parsers.TextReader._setup_parser_source\u001b[1;34m()\u001b[0m\n",
      "\u001b[1;31mFileNotFoundError\u001b[0m: [Errno 2] No such file or directory: '..//Downloads//.ipynb_checkpoints//zomato.csv'"
     ]
    }
   ],
   "source": [
    "data=pd.read_csv('C://Users//MAMTA//Downloads//.ipynb_checkpoints//zomato.csv')"
   ]
  },
  {
   "cell_type": "markdown",
   "metadata": {
    "papermill": {
     "duration": 0.063926,
     "end_time": "2021-06-20T09:11:41.128195",
     "exception": false,
     "start_time": "2021-06-20T09:11:41.064269",
     "status": "completed"
    },
    "tags": []
   },
   "source": [
    "# Getting head of the data"
   ]
  },
  {
   "cell_type": "code",
   "execution_count": 19,
   "metadata": {
    "execution": {
     "iopub.execute_input": "2021-06-20T09:11:41.266485Z",
     "iopub.status.busy": "2021-06-20T09:11:41.265806Z",
     "iopub.status.idle": "2021-06-20T09:11:41.293198Z",
     "shell.execute_reply": "2021-06-20T09:11:41.293691Z",
     "shell.execute_reply.started": "2021-06-20T07:41:00.943817Z"
    },
    "papermill": {
     "duration": 0.102457,
     "end_time": "2021-06-20T09:11:41.293857",
     "exception": false,
     "start_time": "2021-06-20T09:11:41.191400",
     "status": "completed"
    },
    "tags": []
   },
   "outputs": [
    {
     "data": {
      "text/html": [
       "<div>\n",
       "<style scoped>\n",
       "    .dataframe tbody tr th:only-of-type {\n",
       "        vertical-align: middle;\n",
       "    }\n",
       "\n",
       "    .dataframe tbody tr th {\n",
       "        vertical-align: top;\n",
       "    }\n",
       "\n",
       "    .dataframe thead th {\n",
       "        text-align: right;\n",
       "    }\n",
       "</style>\n",
       "<table border=\"1\" class=\"dataframe\">\n",
       "  <thead>\n",
       "    <tr style=\"text-align: right;\">\n",
       "      <th></th>\n",
       "      <th>url</th>\n",
       "      <th>address</th>\n",
       "      <th>name</th>\n",
       "      <th>online_order</th>\n",
       "      <th>book_table</th>\n",
       "      <th>rate</th>\n",
       "      <th>votes</th>\n",
       "      <th>phone</th>\n",
       "      <th>location</th>\n",
       "      <th>rest_type</th>\n",
       "      <th>dish_liked</th>\n",
       "      <th>cuisines</th>\n",
       "      <th>approx_cost(for two people)</th>\n",
       "      <th>reviews_list</th>\n",
       "      <th>menu_item</th>\n",
       "      <th>listed_in(type)</th>\n",
       "      <th>listed_in(city)</th>\n",
       "    </tr>\n",
       "  </thead>\n",
       "  <tbody>\n",
       "    <tr>\n",
       "      <th>0</th>\n",
       "      <td>https://www.zomato.com/bangalore/jalsa-banasha...</td>\n",
       "      <td>942, 21st Main Road, 2nd Stage, Banashankari, ...</td>\n",
       "      <td>Jalsa</td>\n",
       "      <td>Yes</td>\n",
       "      <td>Yes</td>\n",
       "      <td>4.1/5</td>\n",
       "      <td>775</td>\n",
       "      <td>080 42297555\\r\\n+91 9743772233</td>\n",
       "      <td>Banashankari</td>\n",
       "      <td>Casual Dining</td>\n",
       "      <td>Pasta, Lunch Buffet, Masala Papad, Paneer Laja...</td>\n",
       "      <td>North Indian, Mughlai, Chinese</td>\n",
       "      <td>800</td>\n",
       "      <td>[('Rated 4.0', 'RATED\\n  A beautiful place to ...</td>\n",
       "      <td>[]</td>\n",
       "      <td>Buffet</td>\n",
       "      <td>Banashankari</td>\n",
       "    </tr>\n",
       "    <tr>\n",
       "      <th>1</th>\n",
       "      <td>https://www.zomato.com/bangalore/spice-elephan...</td>\n",
       "      <td>2nd Floor, 80 Feet Road, Near Big Bazaar, 6th ...</td>\n",
       "      <td>Spice Elephant</td>\n",
       "      <td>Yes</td>\n",
       "      <td>No</td>\n",
       "      <td>4.1/5</td>\n",
       "      <td>787</td>\n",
       "      <td>080 41714161</td>\n",
       "      <td>Banashankari</td>\n",
       "      <td>Casual Dining</td>\n",
       "      <td>Momos, Lunch Buffet, Chocolate Nirvana, Thai G...</td>\n",
       "      <td>Chinese, North Indian, Thai</td>\n",
       "      <td>800</td>\n",
       "      <td>[('Rated 4.0', 'RATED\\n  Had been here for din...</td>\n",
       "      <td>[]</td>\n",
       "      <td>Buffet</td>\n",
       "      <td>Banashankari</td>\n",
       "    </tr>\n",
       "    <tr>\n",
       "      <th>2</th>\n",
       "      <td>https://www.zomato.com/SanchurroBangalore?cont...</td>\n",
       "      <td>1112, Next to KIMS Medical College, 17th Cross...</td>\n",
       "      <td>San Churro Cafe</td>\n",
       "      <td>Yes</td>\n",
       "      <td>No</td>\n",
       "      <td>3.8/5</td>\n",
       "      <td>918</td>\n",
       "      <td>+91 9663487993</td>\n",
       "      <td>Banashankari</td>\n",
       "      <td>Cafe, Casual Dining</td>\n",
       "      <td>Churros, Cannelloni, Minestrone Soup, Hot Choc...</td>\n",
       "      <td>Cafe, Mexican, Italian</td>\n",
       "      <td>800</td>\n",
       "      <td>[('Rated 3.0', \"RATED\\n  Ambience is not that ...</td>\n",
       "      <td>[]</td>\n",
       "      <td>Buffet</td>\n",
       "      <td>Banashankari</td>\n",
       "    </tr>\n",
       "    <tr>\n",
       "      <th>3</th>\n",
       "      <td>https://www.zomato.com/bangalore/addhuri-udupi...</td>\n",
       "      <td>1st Floor, Annakuteera, 3rd Stage, Banashankar...</td>\n",
       "      <td>Addhuri Udupi Bhojana</td>\n",
       "      <td>No</td>\n",
       "      <td>No</td>\n",
       "      <td>3.7/5</td>\n",
       "      <td>88</td>\n",
       "      <td>+91 9620009302</td>\n",
       "      <td>Banashankari</td>\n",
       "      <td>Quick Bites</td>\n",
       "      <td>Masala Dosa</td>\n",
       "      <td>South Indian, North Indian</td>\n",
       "      <td>300</td>\n",
       "      <td>[('Rated 4.0', \"RATED\\n  Great food and proper...</td>\n",
       "      <td>[]</td>\n",
       "      <td>Buffet</td>\n",
       "      <td>Banashankari</td>\n",
       "    </tr>\n",
       "    <tr>\n",
       "      <th>4</th>\n",
       "      <td>https://www.zomato.com/bangalore/grand-village...</td>\n",
       "      <td>10, 3rd Floor, Lakshmi Associates, Gandhi Baza...</td>\n",
       "      <td>Grand Village</td>\n",
       "      <td>No</td>\n",
       "      <td>No</td>\n",
       "      <td>3.8/5</td>\n",
       "      <td>166</td>\n",
       "      <td>+91 8026612447\\r\\n+91 9901210005</td>\n",
       "      <td>Basavanagudi</td>\n",
       "      <td>Casual Dining</td>\n",
       "      <td>Panipuri, Gol Gappe</td>\n",
       "      <td>North Indian, Rajasthani</td>\n",
       "      <td>600</td>\n",
       "      <td>[('Rated 4.0', 'RATED\\n  Very good restaurant ...</td>\n",
       "      <td>[]</td>\n",
       "      <td>Buffet</td>\n",
       "      <td>Banashankari</td>\n",
       "    </tr>\n",
       "  </tbody>\n",
       "</table>\n",
       "</div>"
      ],
      "text/plain": [
       "                                                 url  \\\n",
       "0  https://www.zomato.com/bangalore/jalsa-banasha...   \n",
       "1  https://www.zomato.com/bangalore/spice-elephan...   \n",
       "2  https://www.zomato.com/SanchurroBangalore?cont...   \n",
       "3  https://www.zomato.com/bangalore/addhuri-udupi...   \n",
       "4  https://www.zomato.com/bangalore/grand-village...   \n",
       "\n",
       "                                             address                   name  \\\n",
       "0  942, 21st Main Road, 2nd Stage, Banashankari, ...                  Jalsa   \n",
       "1  2nd Floor, 80 Feet Road, Near Big Bazaar, 6th ...         Spice Elephant   \n",
       "2  1112, Next to KIMS Medical College, 17th Cross...        San Churro Cafe   \n",
       "3  1st Floor, Annakuteera, 3rd Stage, Banashankar...  Addhuri Udupi Bhojana   \n",
       "4  10, 3rd Floor, Lakshmi Associates, Gandhi Baza...          Grand Village   \n",
       "\n",
       "  online_order book_table   rate  votes                             phone  \\\n",
       "0          Yes        Yes  4.1/5    775    080 42297555\\r\\n+91 9743772233   \n",
       "1          Yes         No  4.1/5    787                      080 41714161   \n",
       "2          Yes         No  3.8/5    918                    +91 9663487993   \n",
       "3           No         No  3.7/5     88                    +91 9620009302   \n",
       "4           No         No  3.8/5    166  +91 8026612447\\r\\n+91 9901210005   \n",
       "\n",
       "       location            rest_type  \\\n",
       "0  Banashankari        Casual Dining   \n",
       "1  Banashankari        Casual Dining   \n",
       "2  Banashankari  Cafe, Casual Dining   \n",
       "3  Banashankari          Quick Bites   \n",
       "4  Basavanagudi        Casual Dining   \n",
       "\n",
       "                                          dish_liked  \\\n",
       "0  Pasta, Lunch Buffet, Masala Papad, Paneer Laja...   \n",
       "1  Momos, Lunch Buffet, Chocolate Nirvana, Thai G...   \n",
       "2  Churros, Cannelloni, Minestrone Soup, Hot Choc...   \n",
       "3                                        Masala Dosa   \n",
       "4                                Panipuri, Gol Gappe   \n",
       "\n",
       "                         cuisines approx_cost(for two people)  \\\n",
       "0  North Indian, Mughlai, Chinese                         800   \n",
       "1     Chinese, North Indian, Thai                         800   \n",
       "2          Cafe, Mexican, Italian                         800   \n",
       "3      South Indian, North Indian                         300   \n",
       "4        North Indian, Rajasthani                         600   \n",
       "\n",
       "                                        reviews_list menu_item  \\\n",
       "0  [('Rated 4.0', 'RATED\\n  A beautiful place to ...        []   \n",
       "1  [('Rated 4.0', 'RATED\\n  Had been here for din...        []   \n",
       "2  [('Rated 3.0', \"RATED\\n  Ambience is not that ...        []   \n",
       "3  [('Rated 4.0', \"RATED\\n  Great food and proper...        []   \n",
       "4  [('Rated 4.0', 'RATED\\n  Very good restaurant ...        []   \n",
       "\n",
       "  listed_in(type) listed_in(city)  \n",
       "0          Buffet    Banashankari  \n",
       "1          Buffet    Banashankari  \n",
       "2          Buffet    Banashankari  \n",
       "3          Buffet    Banashankari  \n",
       "4          Buffet    Banashankari  "
      ]
     },
     "execution_count": 19,
     "metadata": {},
     "output_type": "execute_result"
    }
   ],
   "source": [
    "data.head()"
   ]
  },
  {
   "cell_type": "markdown",
   "metadata": {
    "papermill": {
     "duration": 0.063196,
     "end_time": "2021-06-20T09:11:41.420926",
     "exception": false,
     "start_time": "2021-06-20T09:11:41.357730",
     "status": "completed"
    },
    "tags": []
   },
   "source": [
    "# Getting information about the data"
   ]
  },
  {
   "cell_type": "code",
   "execution_count": 20,
   "metadata": {
    "execution": {
     "iopub.execute_input": "2021-06-20T09:11:41.551264Z",
     "iopub.status.busy": "2021-06-20T09:11:41.550652Z",
     "iopub.status.idle": "2021-06-20T09:11:41.652730Z",
     "shell.execute_reply": "2021-06-20T09:11:41.651726Z",
     "shell.execute_reply.started": "2021-06-20T07:41:00.970619Z"
    },
    "papermill": {
     "duration": 0.168952,
     "end_time": "2021-06-20T09:11:41.652939",
     "exception": false,
     "start_time": "2021-06-20T09:11:41.483987",
     "status": "completed"
    },
    "tags": []
   },
   "outputs": [
    {
     "name": "stdout",
     "output_type": "stream",
     "text": [
      "<class 'pandas.core.frame.DataFrame'>\n",
      "RangeIndex: 51717 entries, 0 to 51716\n",
      "Data columns (total 17 columns):\n",
      " #   Column                       Non-Null Count  Dtype \n",
      "---  ------                       --------------  ----- \n",
      " 0   url                          51717 non-null  object\n",
      " 1   address                      51717 non-null  object\n",
      " 2   name                         51717 non-null  object\n",
      " 3   online_order                 51717 non-null  object\n",
      " 4   book_table                   51717 non-null  object\n",
      " 5   rate                         43942 non-null  object\n",
      " 6   votes                        51717 non-null  int64 \n",
      " 7   phone                        50509 non-null  object\n",
      " 8   location                     51696 non-null  object\n",
      " 9   rest_type                    51490 non-null  object\n",
      " 10  dish_liked                   23639 non-null  object\n",
      " 11  cuisines                     51672 non-null  object\n",
      " 12  approx_cost(for two people)  51371 non-null  object\n",
      " 13  reviews_list                 51717 non-null  object\n",
      " 14  menu_item                    51717 non-null  object\n",
      " 15  listed_in(type)              51717 non-null  object\n",
      " 16  listed_in(city)              51717 non-null  object\n",
      "dtypes: int64(1), object(16)\n",
      "memory usage: 6.7+ MB\n"
     ]
    }
   ],
   "source": [
    "data.info()"
   ]
  },
  {
   "cell_type": "markdown",
   "metadata": {
    "papermill": {
     "duration": 0.063495,
     "end_time": "2021-06-20T09:11:41.781031",
     "exception": false,
     "start_time": "2021-06-20T09:11:41.717536",
     "status": "completed"
    },
    "tags": []
   },
   "source": [
    "# Droping the duplicates"
   ]
  },
  {
   "cell_type": "code",
   "execution_count": 21,
   "metadata": {
    "execution": {
     "iopub.execute_input": "2021-06-20T09:11:41.920712Z",
     "iopub.status.busy": "2021-06-20T09:11:41.920067Z",
     "iopub.status.idle": "2021-06-20T09:11:43.874891Z",
     "shell.execute_reply": "2021-06-20T09:11:43.874282Z",
     "shell.execute_reply.started": "2021-06-20T07:41:01.077118Z"
    },
    "papermill": {
     "duration": 2.030603,
     "end_time": "2021-06-20T09:11:43.875045",
     "exception": false,
     "start_time": "2021-06-20T09:11:41.844442",
     "status": "completed"
    },
    "tags": []
   },
   "outputs": [],
   "source": [
    "data.drop_duplicates(inplace=True)"
   ]
  },
  {
   "cell_type": "markdown",
   "metadata": {
    "papermill": {
     "duration": 0.063112,
     "end_time": "2021-06-20T09:11:44.002203",
     "exception": false,
     "start_time": "2021-06-20T09:11:43.939091",
     "status": "completed"
    },
    "tags": []
   },
   "source": [
    "# Getting shape of the data"
   ]
  },
  {
   "cell_type": "code",
   "execution_count": 22,
   "metadata": {
    "execution": {
     "iopub.execute_input": "2021-06-20T09:11:44.137202Z",
     "iopub.status.busy": "2021-06-20T09:11:44.136535Z",
     "iopub.status.idle": "2021-06-20T09:11:44.140257Z",
     "shell.execute_reply": "2021-06-20T09:11:44.140768Z",
     "shell.execute_reply.started": "2021-06-20T07:41:03.106001Z"
    },
    "papermill": {
     "duration": 0.073555,
     "end_time": "2021-06-20T09:11:44.140944",
     "exception": false,
     "start_time": "2021-06-20T09:11:44.067389",
     "status": "completed"
    },
    "tags": []
   },
   "outputs": [
    {
     "data": {
      "text/plain": [
       "(51717, 17)"
      ]
     },
     "execution_count": 22,
     "metadata": {},
     "output_type": "execute_result"
    }
   ],
   "source": [
    "data.shape"
   ]
  },
  {
   "cell_type": "markdown",
   "metadata": {
    "papermill": {
     "duration": 0.065732,
     "end_time": "2021-06-20T09:11:44.270781",
     "exception": false,
     "start_time": "2021-06-20T09:11:44.205049",
     "status": "completed"
    },
    "tags": []
   },
   "source": [
    "# Describing data (min,max,std etc) for numerical columns"
   ]
  },
  {
   "cell_type": "code",
   "execution_count": 23,
   "metadata": {
    "execution": {
     "iopub.execute_input": "2021-06-20T09:11:44.407100Z",
     "iopub.status.busy": "2021-06-20T09:11:44.402508Z",
     "iopub.status.idle": "2021-06-20T09:11:44.425809Z",
     "shell.execute_reply": "2021-06-20T09:11:44.425275Z",
     "shell.execute_reply.started": "2021-06-20T07:41:03.113913Z"
    },
    "papermill": {
     "duration": 0.09123,
     "end_time": "2021-06-20T09:11:44.425956",
     "exception": false,
     "start_time": "2021-06-20T09:11:44.334726",
     "status": "completed"
    },
    "tags": []
   },
   "outputs": [
    {
     "data": {
      "text/html": [
       "<div>\n",
       "<style scoped>\n",
       "    .dataframe tbody tr th:only-of-type {\n",
       "        vertical-align: middle;\n",
       "    }\n",
       "\n",
       "    .dataframe tbody tr th {\n",
       "        vertical-align: top;\n",
       "    }\n",
       "\n",
       "    .dataframe thead th {\n",
       "        text-align: right;\n",
       "    }\n",
       "</style>\n",
       "<table border=\"1\" class=\"dataframe\">\n",
       "  <thead>\n",
       "    <tr style=\"text-align: right;\">\n",
       "      <th></th>\n",
       "      <th>votes</th>\n",
       "    </tr>\n",
       "  </thead>\n",
       "  <tbody>\n",
       "    <tr>\n",
       "      <th>count</th>\n",
       "      <td>51717.000000</td>\n",
       "    </tr>\n",
       "    <tr>\n",
       "      <th>mean</th>\n",
       "      <td>283.697527</td>\n",
       "    </tr>\n",
       "    <tr>\n",
       "      <th>std</th>\n",
       "      <td>803.838853</td>\n",
       "    </tr>\n",
       "    <tr>\n",
       "      <th>min</th>\n",
       "      <td>0.000000</td>\n",
       "    </tr>\n",
       "    <tr>\n",
       "      <th>25%</th>\n",
       "      <td>7.000000</td>\n",
       "    </tr>\n",
       "    <tr>\n",
       "      <th>50%</th>\n",
       "      <td>41.000000</td>\n",
       "    </tr>\n",
       "    <tr>\n",
       "      <th>75%</th>\n",
       "      <td>198.000000</td>\n",
       "    </tr>\n",
       "    <tr>\n",
       "      <th>max</th>\n",
       "      <td>16832.000000</td>\n",
       "    </tr>\n",
       "  </tbody>\n",
       "</table>\n",
       "</div>"
      ],
      "text/plain": [
       "              votes\n",
       "count  51717.000000\n",
       "mean     283.697527\n",
       "std      803.838853\n",
       "min        0.000000\n",
       "25%        7.000000\n",
       "50%       41.000000\n",
       "75%      198.000000\n",
       "max    16832.000000"
      ]
     },
     "execution_count": 23,
     "metadata": {},
     "output_type": "execute_result"
    }
   ],
   "source": [
    "data.describe()"
   ]
  },
  {
   "cell_type": "markdown",
   "metadata": {
    "papermill": {
     "duration": 0.063943,
     "end_time": "2021-06-20T09:11:44.555205",
     "exception": false,
     "start_time": "2021-06-20T09:11:44.491262",
     "status": "completed"
    },
    "tags": []
   },
   "source": [
    "# To get the column names"
   ]
  },
  {
   "cell_type": "code",
   "execution_count": 24,
   "metadata": {
    "execution": {
     "iopub.execute_input": "2021-06-20T09:11:44.690166Z",
     "iopub.status.busy": "2021-06-20T09:11:44.689548Z",
     "iopub.status.idle": "2021-06-20T09:11:44.693985Z",
     "shell.execute_reply": "2021-06-20T09:11:44.693479Z",
     "shell.execute_reply.started": "2021-06-20T07:41:03.142928Z"
    },
    "papermill": {
     "duration": 0.074669,
     "end_time": "2021-06-20T09:11:44.694129",
     "exception": false,
     "start_time": "2021-06-20T09:11:44.619460",
     "status": "completed"
    },
    "tags": []
   },
   "outputs": [
    {
     "data": {
      "text/plain": [
       "Index(['url', 'address', 'name', 'online_order', 'book_table', 'rate', 'votes',\n",
       "       'phone', 'location', 'rest_type', 'dish_liked', 'cuisines',\n",
       "       'approx_cost(for two people)', 'reviews_list', 'menu_item',\n",
       "       'listed_in(type)', 'listed_in(city)'],\n",
       "      dtype='object')"
      ]
     },
     "execution_count": 24,
     "metadata": {},
     "output_type": "execute_result"
    }
   ],
   "source": [
    "data.columns"
   ]
  },
  {
   "cell_type": "markdown",
   "metadata": {
    "papermill": {
     "duration": 0.064304,
     "end_time": "2021-06-20T09:11:44.823178",
     "exception": false,
     "start_time": "2021-06-20T09:11:44.758874",
     "status": "completed"
    },
    "tags": []
   },
   "source": [
    "# Cheking total null values in each column"
   ]
  },
  {
   "cell_type": "code",
   "execution_count": 25,
   "metadata": {
    "execution": {
     "iopub.execute_input": "2021-06-20T09:11:45.035209Z",
     "iopub.status.busy": "2021-06-20T09:11:45.034538Z",
     "iopub.status.idle": "2021-06-20T09:11:45.043557Z",
     "shell.execute_reply": "2021-06-20T09:11:45.042916Z",
     "shell.execute_reply.started": "2021-06-20T07:41:03.153464Z"
    },
    "papermill": {
     "duration": 0.155134,
     "end_time": "2021-06-20T09:11:45.043711",
     "exception": false,
     "start_time": "2021-06-20T09:11:44.888577",
     "status": "completed"
    },
    "tags": []
   },
   "outputs": [
    {
     "data": {
      "text/plain": [
       "url                                0\n",
       "address                            0\n",
       "name                               0\n",
       "online_order                       0\n",
       "book_table                         0\n",
       "rate                            7775\n",
       "votes                              0\n",
       "phone                           1208\n",
       "location                          21\n",
       "rest_type                        227\n",
       "dish_liked                     28078\n",
       "cuisines                          45\n",
       "approx_cost(for two people)      346\n",
       "reviews_list                       0\n",
       "menu_item                          0\n",
       "listed_in(type)                    0\n",
       "listed_in(city)                    0\n",
       "dtype: int64"
      ]
     },
     "execution_count": 25,
     "metadata": {},
     "output_type": "execute_result"
    }
   ],
   "source": [
    "data.isnull().sum()"
   ]
  },
  {
   "cell_type": "markdown",
   "metadata": {
    "papermill": {
     "duration": 0.066558,
     "end_time": "2021-06-20T09:11:45.177110",
     "exception": false,
     "start_time": "2021-06-20T09:11:45.110552",
     "status": "completed"
    },
    "tags": []
   },
   "source": [
    "# Ploting Heat map to visualize the null values"
   ]
  },
  {
   "cell_type": "code",
   "execution_count": 26,
   "metadata": {
    "execution": {
     "iopub.execute_input": "2021-06-20T09:11:45.392229Z",
     "iopub.status.busy": "2021-06-20T09:11:45.390994Z",
     "iopub.status.idle": "2021-06-20T09:11:46.404030Z",
     "shell.execute_reply": "2021-06-20T09:11:46.403472Z",
     "shell.execute_reply.started": "2021-06-20T07:41:03.247784Z"
    },
    "papermill": {
     "duration": 1.159479,
     "end_time": "2021-06-20T09:11:46.404164",
     "exception": false,
     "start_time": "2021-06-20T09:11:45.244685",
     "status": "completed"
    },
    "tags": []
   },
   "outputs": [
    {
     "data": {
      "text/plain": [
       "<AxesSubplot:>"
      ]
     },
     "execution_count": 26,
     "metadata": {},
     "output_type": "execute_result"
    },
    {
     "data": {
      "image/png": "[encoded data removed]",
      "text/plain": [
       "<Figure size 432x288 with 1 Axes>"
      ]
     },
     "metadata": {
      "needs_background": "light"
     },
     "output_type": "display_data"
    }
   ],
   "source": [
    "sns.heatmap(data.isnull(),cbar=False,yticklabels=False)"
   ]
  },
  {
   "cell_type": "markdown",
   "metadata": {
    "papermill": {
     "duration": 0.070882,
     "end_time": "2021-06-20T09:11:46.544818",
     "exception": false,
     "start_time": "2021-06-20T09:11:46.473936",
     "status": "completed"
    },
    "tags": []
   },
   "source": [
    "# Droping unnesessary columns"
   ]
  },
  {
   "cell_type": "code",
   "execution_count": 27,
   "metadata": {
    "execution": {
     "iopub.execute_input": "2021-06-20T09:11:46.693320Z",
     "iopub.status.busy": "2021-06-20T09:11:46.686507Z",
     "iopub.status.idle": "2021-06-20T09:11:46.695973Z",
     "shell.execute_reply": "2021-06-20T09:11:46.695304Z",
     "shell.execute_reply.started": "2021-06-20T07:41:04.317954Z"
    },
    "papermill": {
     "duration": 0.081364,
     "end_time": "2021-06-20T09:11:46.696114",
     "exception": false,
     "start_time": "2021-06-20T09:11:46.614750",
     "status": "completed"
    },
    "tags": []
   },
   "outputs": [],
   "source": [
    "data.drop(['url','address','menu_item','reviews_list','phone','dish_liked','listed_in(city)'],inplace=True,axis=1)"
   ]
  },
  {
   "cell_type": "code",
   "execution_count": 28,
   "metadata": {
    "execution": {
     "iopub.execute_input": "2021-06-20T09:11:46.834639Z",
     "iopub.status.busy": "2021-06-20T09:11:46.833982Z",
     "iopub.status.idle": "2021-06-20T09:11:46.854649Z",
     "shell.execute_reply": "2021-06-20T09:11:46.855208Z",
     "shell.execute_reply.started": "2021-06-20T07:41:04.332398Z"
    },
    "papermill": {
     "duration": 0.090581,
     "end_time": "2021-06-20T09:11:46.855397",
     "exception": false,
     "start_time": "2021-06-20T09:11:46.764816",
     "status": "completed"
    },
    "tags": []
   },
   "outputs": [
    {
     "data": {
      "text/html": [
       "<div>\n",
       "<style scoped>\n",
       "    .dataframe tbody tr th:only-of-type {\n",
       "        vertical-align: middle;\n",
       "    }\n",
       "\n",
       "    .dataframe tbody tr th {\n",
       "        vertical-align: top;\n",
       "    }\n",
       "\n",
       "    .dataframe thead th {\n",
       "        text-align: right;\n",
       "    }\n",
       "</style>\n",
       "<table border=\"1\" class=\"dataframe\">\n",
       "  <thead>\n",
       "    <tr style=\"text-align: right;\">\n",
       "      <th></th>\n",
       "      <th>name</th>\n",
       "      <th>online_order</th>\n",
       "      <th>book_table</th>\n",
       "      <th>rate</th>\n",
       "      <th>votes</th>\n",
       "      <th>location</th>\n",
       "      <th>rest_type</th>\n",
       "      <th>cuisines</th>\n",
       "      <th>approx_cost(for two people)</th>\n",
       "      <th>listed_in(type)</th>\n",
       "    </tr>\n",
       "  </thead>\n",
       "  <tbody>\n",
       "    <tr>\n",
       "      <th>0</th>\n",
       "      <td>Jalsa</td>\n",
       "      <td>Yes</td>\n",
       "      <td>Yes</td>\n",
       "      <td>4.1/5</td>\n",
       "      <td>775</td>\n",
       "      <td>Banashankari</td>\n",
       "      <td>Casual Dining</td>\n",
       "      <td>North Indian, Mughlai, Chinese</td>\n",
       "      <td>800</td>\n",
       "      <td>Buffet</td>\n",
       "    </tr>\n",
       "    <tr>\n",
       "      <th>1</th>\n",
       "      <td>Spice Elephant</td>\n",
       "      <td>Yes</td>\n",
       "      <td>No</td>\n",
       "      <td>4.1/5</td>\n",
       "      <td>787</td>\n",
       "      <td>Banashankari</td>\n",
       "      <td>Casual Dining</td>\n",
       "      <td>Chinese, North Indian, Thai</td>\n",
       "      <td>800</td>\n",
       "      <td>Buffet</td>\n",
       "    </tr>\n",
       "    <tr>\n",
       "      <th>2</th>\n",
       "      <td>San Churro Cafe</td>\n",
       "      <td>Yes</td>\n",
       "      <td>No</td>\n",
       "      <td>3.8/5</td>\n",
       "      <td>918</td>\n",
       "      <td>Banashankari</td>\n",
       "      <td>Cafe, Casual Dining</td>\n",
       "      <td>Cafe, Mexican, Italian</td>\n",
       "      <td>800</td>\n",
       "      <td>Buffet</td>\n",
       "    </tr>\n",
       "    <tr>\n",
       "      <th>3</th>\n",
       "      <td>Addhuri Udupi Bhojana</td>\n",
       "      <td>No</td>\n",
       "      <td>No</td>\n",
       "      <td>3.7/5</td>\n",
       "      <td>88</td>\n",
       "      <td>Banashankari</td>\n",
       "      <td>Quick Bites</td>\n",
       "      <td>South Indian, North Indian</td>\n",
       "      <td>300</td>\n",
       "      <td>Buffet</td>\n",
       "    </tr>\n",
       "    <tr>\n",
       "      <th>4</th>\n",
       "      <td>Grand Village</td>\n",
       "      <td>No</td>\n",
       "      <td>No</td>\n",
       "      <td>3.8/5</td>\n",
       "      <td>166</td>\n",
       "      <td>Basavanagudi</td>\n",
       "      <td>Casual Dining</td>\n",
       "      <td>North Indian, Rajasthani</td>\n",
       "      <td>600</td>\n",
       "      <td>Buffet</td>\n",
       "    </tr>\n",
       "    <tr>\n",
       "      <th>...</th>\n",
       "      <td>...</td>\n",
       "      <td>...</td>\n",
       "      <td>...</td>\n",
       "      <td>...</td>\n",
       "      <td>...</td>\n",
       "      <td>...</td>\n",
       "      <td>...</td>\n",
       "      <td>...</td>\n",
       "      <td>...</td>\n",
       "      <td>...</td>\n",
       "    </tr>\n",
       "    <tr>\n",
       "      <th>51712</th>\n",
       "      <td>Best Brews - Four Points by Sheraton Bengaluru...</td>\n",
       "      <td>No</td>\n",
       "      <td>No</td>\n",
       "      <td>3.6 /5</td>\n",
       "      <td>27</td>\n",
       "      <td>Whitefield</td>\n",
       "      <td>Bar</td>\n",
       "      <td>Continental</td>\n",
       "      <td>1,500</td>\n",
       "      <td>Pubs and bars</td>\n",
       "    </tr>\n",
       "    <tr>\n",
       "      <th>51713</th>\n",
       "      <td>Vinod Bar And Restaurant</td>\n",
       "      <td>No</td>\n",
       "      <td>No</td>\n",
       "      <td>NaN</td>\n",
       "      <td>0</td>\n",
       "      <td>Whitefield</td>\n",
       "      <td>Bar</td>\n",
       "      <td>Finger Food</td>\n",
       "      <td>600</td>\n",
       "      <td>Pubs and bars</td>\n",
       "    </tr>\n",
       "    <tr>\n",
       "      <th>51714</th>\n",
       "      <td>Plunge - Sheraton Grand Bengaluru Whitefield H...</td>\n",
       "      <td>No</td>\n",
       "      <td>No</td>\n",
       "      <td>NaN</td>\n",
       "      <td>0</td>\n",
       "      <td>Whitefield</td>\n",
       "      <td>Bar</td>\n",
       "      <td>Finger Food</td>\n",
       "      <td>2,000</td>\n",
       "      <td>Pubs and bars</td>\n",
       "    </tr>\n",
       "    <tr>\n",
       "      <th>51715</th>\n",
       "      <td>Chime - Sheraton Grand Bengaluru Whitefield Ho...</td>\n",
       "      <td>No</td>\n",
       "      <td>Yes</td>\n",
       "      <td>4.3 /5</td>\n",
       "      <td>236</td>\n",
       "      <td>ITPL Main Road, Whitefield</td>\n",
       "      <td>Bar</td>\n",
       "      <td>Finger Food</td>\n",
       "      <td>2,500</td>\n",
       "      <td>Pubs and bars</td>\n",
       "    </tr>\n",
       "    <tr>\n",
       "      <th>51716</th>\n",
       "      <td>The Nest - The Den Bengaluru</td>\n",
       "      <td>No</td>\n",
       "      <td>No</td>\n",
       "      <td>3.4 /5</td>\n",
       "      <td>13</td>\n",
       "      <td>ITPL Main Road, Whitefield</td>\n",
       "      <td>Bar, Casual Dining</td>\n",
       "      <td>Finger Food, North Indian, Continental</td>\n",
       "      <td>1,500</td>\n",
       "      <td>Pubs and bars</td>\n",
       "    </tr>\n",
       "  </tbody>\n",
       "</table>\n",
       "<p>51717 rows × 10 columns</p>\n",
       "</div>"
      ],
      "text/plain": [
       "                                                    name online_order  \\\n",
       "0                                                  Jalsa          Yes   \n",
       "1                                         Spice Elephant          Yes   \n",
       "2                                        San Churro Cafe          Yes   \n",
       "3                                  Addhuri Udupi Bhojana           No   \n",
       "4                                          Grand Village           No   \n",
       "...                                                  ...          ...   \n",
       "51712  Best Brews - Four Points by Sheraton Bengaluru...           No   \n",
       "51713                           Vinod Bar And Restaurant           No   \n",
       "51714  Plunge - Sheraton Grand Bengaluru Whitefield H...           No   \n",
       "51715  Chime - Sheraton Grand Bengaluru Whitefield Ho...           No   \n",
       "51716                       The Nest - The Den Bengaluru           No   \n",
       "\n",
       "      book_table    rate  votes                    location  \\\n",
       "0            Yes   4.1/5    775                Banashankari   \n",
       "1             No   4.1/5    787                Banashankari   \n",
       "2             No   3.8/5    918                Banashankari   \n",
       "3             No   3.7/5     88                Banashankari   \n",
       "4             No   3.8/5    166                Basavanagudi   \n",
       "...          ...     ...    ...                         ...   \n",
       "51712         No  3.6 /5     27                  Whitefield   \n",
       "51713         No     NaN      0                  Whitefield   \n",
       "51714         No     NaN      0                  Whitefield   \n",
       "51715        Yes  4.3 /5    236  ITPL Main Road, Whitefield   \n",
       "51716         No  3.4 /5     13  ITPL Main Road, Whitefield   \n",
       "\n",
       "                 rest_type                                cuisines  \\\n",
       "0            Casual Dining          North Indian, Mughlai, Chinese   \n",
       "1            Casual Dining             Chinese, North Indian, Thai   \n",
       "2      Cafe, Casual Dining                  Cafe, Mexican, Italian   \n",
       "3              Quick Bites              South Indian, North Indian   \n",
       "4            Casual Dining                North Indian, Rajasthani   \n",
       "...                    ...                                     ...   \n",
       "51712                  Bar                             Continental   \n",
       "51713                  Bar                             Finger Food   \n",
       "51714                  Bar                             Finger Food   \n",
       "51715                  Bar                             Finger Food   \n",
       "51716   Bar, Casual Dining  Finger Food, North Indian, Continental   \n",
       "\n",
       "      approx_cost(for two people) listed_in(type)  \n",
       "0                             800          Buffet  \n",
       "1                             800          Buffet  \n",
       "2                             800          Buffet  \n",
       "3                             300          Buffet  \n",
       "4                             600          Buffet  \n",
       "...                           ...             ...  \n",
       "51712                       1,500   Pubs and bars  \n",
       "51713                         600   Pubs and bars  \n",
       "51714                       2,000   Pubs and bars  \n",
       "51715                       2,500   Pubs and bars  \n",
       "51716                       1,500   Pubs and bars  \n",
       "\n",
       "[51717 rows x 10 columns]"
      ]
     },
     "execution_count": 28,
     "metadata": {},
     "output_type": "execute_result"
    }
   ],
   "source": [
    "data"
   ]
  },
  {
   "cell_type": "code",
   "execution_count": 29,
   "metadata": {
    "execution": {
     "iopub.execute_input": "2021-06-20T09:11:46.997588Z",
     "iopub.status.busy": "2021-06-20T09:11:46.996917Z",
     "iopub.status.idle": "2021-06-20T09:11:47.045005Z",
     "shell.execute_reply": "2021-06-20T09:11:47.045545Z",
     "shell.execute_reply.started": "2021-06-20T07:41:04.367161Z"
    },
    "papermill": {
     "duration": 0.118142,
     "end_time": "2021-06-20T09:11:47.045717",
     "exception": false,
     "start_time": "2021-06-20T09:11:46.927575",
     "status": "completed"
    },
    "tags": []
   },
   "outputs": [
    {
     "data": {
      "text/plain": [
       "name                              0\n",
       "online_order                      0\n",
       "book_table                        0\n",
       "rate                           7775\n",
       "votes                             0\n",
       "location                         21\n",
       "rest_type                       227\n",
       "cuisines                         45\n",
       "approx_cost(for two people)     346\n",
       "listed_in(type)                   0\n",
       "dtype: int64"
      ]
     },
     "execution_count": 29,
     "metadata": {},
     "output_type": "execute_result"
    }
   ],
   "source": [
    "data.isnull().sum()"
   ]
  },
  {
   "cell_type": "markdown",
   "metadata": {
    "papermill": {
     "duration": 0.066739,
     "end_time": "2021-06-20T09:11:47.182314",
     "exception": false,
     "start_time": "2021-06-20T09:11:47.115575",
     "status": "completed"
    },
    "tags": []
   },
   "source": [
    "# To get the unique values in rate column"
   ]
  },
  {
   "cell_type": "code",
   "execution_count": 30,
   "metadata": {
    "execution": {
     "iopub.execute_input": "2021-06-20T09:11:47.322512Z",
     "iopub.status.busy": "2021-06-20T09:11:47.321887Z",
     "iopub.status.idle": "2021-06-20T09:11:47.332538Z",
     "shell.execute_reply": "2021-06-20T09:11:47.333035Z",
     "shell.execute_reply.started": "2021-06-20T07:41:04.4293Z"
    },
    "papermill": {
     "duration": 0.082363,
     "end_time": "2021-06-20T09:11:47.333214",
     "exception": false,
     "start_time": "2021-06-20T09:11:47.250851",
     "status": "completed"
    },
    "tags": []
   },
   "outputs": [
    {
     "data": {
      "text/plain": [
       "array(['4.1/5', '3.8/5', '3.7/5', '3.6/5', '4.6/5', '4.0/5', '4.2/5',\n",
       "       '3.9/5', '3.1/5', '3.0/5', '3.2/5', '3.3/5', '2.8/5', '4.4/5',\n",
       "       '4.3/5', 'NEW', '2.9/5', '3.5/5', nan, '2.6/5', '3.8 /5', '3.4/5',\n",
       "       '4.5/5', '2.5/5', '2.7/5', '4.7/5', '2.4/5', '2.2/5', '2.3/5',\n",
       "       '3.4 /5', '-', '3.6 /5', '4.8/5', '3.9 /5', '4.2 /5', '4.0 /5',\n",
       "       '4.1 /5', '3.7 /5', '3.1 /5', '2.9 /5', '3.3 /5', '2.8 /5',\n",
       "       '3.5 /5', '2.7 /5', '2.5 /5', '3.2 /5', '2.6 /5', '4.5 /5',\n",
       "       '4.3 /5', '4.4 /5', '4.9/5', '2.1/5', '2.0/5', '1.8/5', '4.6 /5',\n",
       "       '4.9 /5', '3.0 /5', '4.8 /5', '2.3 /5', '4.7 /5', '2.4 /5',\n",
       "       '2.1 /5', '2.2 /5', '2.0 /5', '1.8 /5'], dtype=object)"
      ]
     },
     "execution_count": 30,
     "metadata": {},
     "output_type": "execute_result"
    }
   ],
   "source": [
    "data['rate'].unique()"
   ]
  },
  {
   "cell_type": "markdown",
   "metadata": {
    "papermill": {
     "duration": 0.0672,
     "end_time": "2021-06-20T09:11:47.469017",
     "exception": false,
     "start_time": "2021-06-20T09:11:47.401817",
     "status": "completed"
    },
    "tags": []
   },
   "source": [
    "# *Converting rate dtype into float*"
   ]
  },
  {
   "cell_type": "code",
   "execution_count": 31,
   "metadata": {
    "execution": {
     "iopub.execute_input": "2021-06-20T09:11:47.606874Z",
     "iopub.status.busy": "2021-06-20T09:11:47.606198Z",
     "iopub.status.idle": "2021-06-20T09:11:47.610667Z",
     "shell.execute_reply": "2021-06-20T09:11:47.611161Z",
     "shell.execute_reply.started": "2021-06-20T07:41:04.446305Z"
    },
    "papermill": {
     "duration": 0.074923,
     "end_time": "2021-06-20T09:11:47.611362",
     "exception": false,
     "start_time": "2021-06-20T09:11:47.536439",
     "status": "completed"
    },
    "tags": []
   },
   "outputs": [],
   "source": [
    "def dealing_with_rate(values):\n",
    "    if (values=='NEW' or values=='-'):\n",
    "        return np.nan\n",
    "    else:\n",
    "        value=str(values).split('/')[0]\n",
    "        return float(value)"
   ]
  },
  {
   "cell_type": "code",
   "execution_count": 32,
   "metadata": {
    "execution": {
     "iopub.execute_input": "2021-06-20T09:11:47.752270Z",
     "iopub.status.busy": "2021-06-20T09:11:47.751687Z",
     "iopub.status.idle": "2021-06-20T09:11:47.811878Z",
     "shell.execute_reply": "2021-06-20T09:11:47.812417Z",
     "shell.execute_reply.started": "2021-06-20T07:41:04.457916Z"
    },
    "papermill": {
     "duration": 0.13161,
     "end_time": "2021-06-20T09:11:47.812607",
     "exception": false,
     "start_time": "2021-06-20T09:11:47.680997",
     "status": "completed"
    },
    "tags": []
   },
   "outputs": [],
   "source": [
    "data['rate']=data['rate'].apply(dealing_with_rate)"
   ]
  },
  {
   "cell_type": "markdown",
   "metadata": {
    "papermill": {
     "duration": 0.067682,
     "end_time": "2021-06-20T09:11:47.948699",
     "exception": false,
     "start_time": "2021-06-20T09:11:47.881017",
     "status": "completed"
    },
    "tags": []
   },
   "source": [
    "# Filling nan values by mean of rate column"
   ]
  },
  {
   "cell_type": "code",
   "execution_count": 33,
   "metadata": {
    "execution": {
     "iopub.execute_input": "2021-06-20T09:11:48.089027Z",
     "iopub.status.busy": "2021-06-20T09:11:48.088389Z",
     "iopub.status.idle": "2021-06-20T09:11:48.092815Z",
     "shell.execute_reply": "2021-06-20T09:11:48.093267Z",
     "shell.execute_reply.started": "2021-06-20T07:41:04.529261Z"
    },
    "papermill": {
     "duration": 0.076941,
     "end_time": "2021-06-20T09:11:48.093461",
     "exception": false,
     "start_time": "2021-06-20T09:11:48.016520",
     "status": "completed"
    },
    "tags": []
   },
   "outputs": [],
   "source": [
    "data['rate'].fillna(data['rate'].mean(),inplace=True)"
   ]
  },
  {
   "cell_type": "markdown",
   "metadata": {
    "papermill": {
     "duration": 0.067249,
     "end_time": "2021-06-20T09:11:48.230577",
     "exception": false,
     "start_time": "2021-06-20T09:11:48.163328",
     "status": "completed"
    },
    "tags": []
   },
   "source": [
    "# Droping remaining null values"
   ]
  },
  {
   "cell_type": "code",
   "execution_count": 34,
   "metadata": {
    "execution": {
     "iopub.execute_input": "2021-06-20T09:11:48.369877Z",
     "iopub.status.busy": "2021-06-20T09:11:48.369233Z",
     "iopub.status.idle": "2021-06-20T09:11:48.433982Z",
     "shell.execute_reply": "2021-06-20T09:11:48.433413Z",
     "shell.execute_reply.started": "2021-06-20T07:41:04.537611Z"
    },
    "papermill": {
     "duration": 0.134896,
     "end_time": "2021-06-20T09:11:48.434117",
     "exception": false,
     "start_time": "2021-06-20T09:11:48.299221",
     "status": "completed"
    },
    "tags": []
   },
   "outputs": [],
   "source": [
    "data.dropna(inplace=True)"
   ]
  },
  {
   "cell_type": "code",
   "execution_count": 35,
   "metadata": {
    "execution": {
     "iopub.execute_input": "2021-06-20T09:11:48.572366Z",
     "iopub.status.busy": "2021-06-20T09:11:48.571788Z",
     "iopub.status.idle": "2021-06-20T09:11:48.617523Z",
     "shell.execute_reply": "2021-06-20T09:11:48.616858Z",
     "shell.execute_reply.started": "2021-06-20T07:41:04.596938Z"
    },
    "papermill": {
     "duration": 0.116037,
     "end_time": "2021-06-20T09:11:48.617666",
     "exception": false,
     "start_time": "2021-06-20T09:11:48.501629",
     "status": "completed"
    },
    "tags": []
   },
   "outputs": [
    {
     "data": {
      "text/plain": [
       "name                           0\n",
       "online_order                   0\n",
       "book_table                     0\n",
       "rate                           0\n",
       "votes                          0\n",
       "location                       0\n",
       "rest_type                      0\n",
       "cuisines                       0\n",
       "approx_cost(for two people)    0\n",
       "listed_in(type)                0\n",
       "dtype: int64"
      ]
     },
     "execution_count": 35,
     "metadata": {},
     "output_type": "execute_result"
    }
   ],
   "source": [
    "data.isnull().sum()"
   ]
  },
  {
   "cell_type": "code",
   "execution_count": 36,
   "metadata": {
    "execution": {
     "iopub.execute_input": "2021-06-20T09:11:48.796722Z",
     "iopub.status.busy": "2021-06-20T09:11:48.795673Z",
     "iopub.status.idle": "2021-06-20T09:11:49.416187Z",
     "shell.execute_reply": "2021-06-20T09:11:49.415661Z",
     "shell.execute_reply.started": "2021-06-20T07:41:04.64882Z"
    },
    "papermill": {
     "duration": 0.730079,
     "end_time": "2021-06-20T09:11:49.416349",
     "exception": false,
     "start_time": "2021-06-20T09:11:48.686270",
     "status": "completed"
    },
    "tags": []
   },
   "outputs": [
    {
     "data": {
      "text/plain": [
       "<AxesSubplot:>"
      ]
     },
     "execution_count": 36,
     "metadata": {},
     "output_type": "execute_result"
    },
    {
     "data": {
      "image/png": "[encoded data removed]",
      "text/plain": [
       "<Figure size 432x288 with 1 Axes>"
      ]
     },
     "metadata": {
      "needs_background": "light"
     },
     "output_type": "display_data"
    }
   ],
   "source": [
    "sns.heatmap(data.isnull(),cbar=False,yticklabels=False)"
   ]
  },
  {
   "cell_type": "code",
   "execution_count": 37,
   "metadata": {
    "execution": {
     "iopub.execute_input": "2021-06-20T09:11:49.571718Z",
     "iopub.status.busy": "2021-06-20T09:11:49.570875Z",
     "iopub.status.idle": "2021-06-20T09:11:49.574188Z",
     "shell.execute_reply": "2021-06-20T09:11:49.574716Z",
     "shell.execute_reply.started": "2021-06-20T07:41:05.311232Z"
    },
    "papermill": {
     "duration": 0.08842,
     "end_time": "2021-06-20T09:11:49.574878",
     "exception": false,
     "start_time": "2021-06-20T09:11:49.486458",
     "status": "completed"
    },
    "tags": []
   },
   "outputs": [
    {
     "data": {
      "text/html": [
       "<div>\n",
       "<style scoped>\n",
       "    .dataframe tbody tr th:only-of-type {\n",
       "        vertical-align: middle;\n",
       "    }\n",
       "\n",
       "    .dataframe tbody tr th {\n",
       "        vertical-align: top;\n",
       "    }\n",
       "\n",
       "    .dataframe thead th {\n",
       "        text-align: right;\n",
       "    }\n",
       "</style>\n",
       "<table border=\"1\" class=\"dataframe\">\n",
       "  <thead>\n",
       "    <tr style=\"text-align: right;\">\n",
       "      <th></th>\n",
       "      <th>name</th>\n",
       "      <th>online_order</th>\n",
       "      <th>book_table</th>\n",
       "      <th>rate</th>\n",
       "      <th>votes</th>\n",
       "      <th>location</th>\n",
       "      <th>rest_type</th>\n",
       "      <th>cuisines</th>\n",
       "      <th>approx_cost(for two people)</th>\n",
       "      <th>listed_in(type)</th>\n",
       "    </tr>\n",
       "  </thead>\n",
       "  <tbody>\n",
       "    <tr>\n",
       "      <th>0</th>\n",
       "      <td>Jalsa</td>\n",
       "      <td>Yes</td>\n",
       "      <td>Yes</td>\n",
       "      <td>4.1</td>\n",
       "      <td>775</td>\n",
       "      <td>Banashankari</td>\n",
       "      <td>Casual Dining</td>\n",
       "      <td>North Indian, Mughlai, Chinese</td>\n",
       "      <td>800</td>\n",
       "      <td>Buffet</td>\n",
       "    </tr>\n",
       "    <tr>\n",
       "      <th>1</th>\n",
       "      <td>Spice Elephant</td>\n",
       "      <td>Yes</td>\n",
       "      <td>No</td>\n",
       "      <td>4.1</td>\n",
       "      <td>787</td>\n",
       "      <td>Banashankari</td>\n",
       "      <td>Casual Dining</td>\n",
       "      <td>Chinese, North Indian, Thai</td>\n",
       "      <td>800</td>\n",
       "      <td>Buffet</td>\n",
       "    </tr>\n",
       "    <tr>\n",
       "      <th>2</th>\n",
       "      <td>San Churro Cafe</td>\n",
       "      <td>Yes</td>\n",
       "      <td>No</td>\n",
       "      <td>3.8</td>\n",
       "      <td>918</td>\n",
       "      <td>Banashankari</td>\n",
       "      <td>Cafe, Casual Dining</td>\n",
       "      <td>Cafe, Mexican, Italian</td>\n",
       "      <td>800</td>\n",
       "      <td>Buffet</td>\n",
       "    </tr>\n",
       "    <tr>\n",
       "      <th>3</th>\n",
       "      <td>Addhuri Udupi Bhojana</td>\n",
       "      <td>No</td>\n",
       "      <td>No</td>\n",
       "      <td>3.7</td>\n",
       "      <td>88</td>\n",
       "      <td>Banashankari</td>\n",
       "      <td>Quick Bites</td>\n",
       "      <td>South Indian, North Indian</td>\n",
       "      <td>300</td>\n",
       "      <td>Buffet</td>\n",
       "    </tr>\n",
       "    <tr>\n",
       "      <th>4</th>\n",
       "      <td>Grand Village</td>\n",
       "      <td>No</td>\n",
       "      <td>No</td>\n",
       "      <td>3.8</td>\n",
       "      <td>166</td>\n",
       "      <td>Basavanagudi</td>\n",
       "      <td>Casual Dining</td>\n",
       "      <td>North Indian, Rajasthani</td>\n",
       "      <td>600</td>\n",
       "      <td>Buffet</td>\n",
       "    </tr>\n",
       "  </tbody>\n",
       "</table>\n",
       "</div>"
      ],
      "text/plain": [
       "                    name online_order book_table  rate  votes      location  \\\n",
       "0                  Jalsa          Yes        Yes   4.1    775  Banashankari   \n",
       "1         Spice Elephant          Yes         No   4.1    787  Banashankari   \n",
       "2        San Churro Cafe          Yes         No   3.8    918  Banashankari   \n",
       "3  Addhuri Udupi Bhojana           No         No   3.7     88  Banashankari   \n",
       "4          Grand Village           No         No   3.8    166  Basavanagudi   \n",
       "\n",
       "             rest_type                        cuisines  \\\n",
       "0        Casual Dining  North Indian, Mughlai, Chinese   \n",
       "1        Casual Dining     Chinese, North Indian, Thai   \n",
       "2  Cafe, Casual Dining          Cafe, Mexican, Italian   \n",
       "3          Quick Bites      South Indian, North Indian   \n",
       "4        Casual Dining        North Indian, Rajasthani   \n",
       "\n",
       "  approx_cost(for two people) listed_in(type)  \n",
       "0                         800          Buffet  \n",
       "1                         800          Buffet  \n",
       "2                         800          Buffet  \n",
       "3                         300          Buffet  \n",
       "4                         600          Buffet  "
      ]
     },
     "execution_count": 37,
     "metadata": {},
     "output_type": "execute_result"
    }
   ],
   "source": [
    "data.head()"
   ]
  },
  {
   "cell_type": "code",
   "execution_count": 38,
   "metadata": {
    "execution": {
     "iopub.execute_input": "2021-06-20T09:11:49.733549Z",
     "iopub.status.busy": "2021-06-20T09:11:49.732589Z",
     "iopub.status.idle": "2021-06-20T09:11:49.737322Z",
     "shell.execute_reply": "2021-06-20T09:11:49.736705Z",
     "shell.execute_reply.started": "2021-06-20T07:41:05.332308Z"
    },
    "papermill": {
     "duration": 0.09334,
     "end_time": "2021-06-20T09:11:49.737477",
     "exception": false,
     "start_time": "2021-06-20T09:11:49.644137",
     "status": "completed"
    },
    "tags": []
   },
   "outputs": [
    {
     "data": {
      "text/plain": [
       "Quick Bites                   19046\n",
       "Casual Dining                 10273\n",
       "Cafe                           3687\n",
       "Delivery                       2578\n",
       "Dessert Parlor                 2245\n",
       "                              ...  \n",
       "Food Court, Beverage Shop         2\n",
       "Dessert Parlor, Kiosk             2\n",
       "Pop Up                            2\n",
       "Quick Bites, Kiosk                1\n",
       "Sweet Shop, Dessert Parlor        1\n",
       "Name: rest_type, Length: 93, dtype: int64"
      ]
     },
     "execution_count": 38,
     "metadata": {},
     "output_type": "execute_result"
    }
   ],
   "source": [
    "data['rest_type'].value_counts()"
   ]
  },
  {
   "cell_type": "code",
   "execution_count": 39,
   "metadata": {
    "execution": {
     "iopub.execute_input": "2021-06-20T09:11:49.897616Z",
     "iopub.status.busy": "2021-06-20T09:11:49.896847Z",
     "iopub.status.idle": "2021-06-20T09:11:49.900442Z",
     "shell.execute_reply": "2021-06-20T09:11:49.899854Z",
     "shell.execute_reply.started": "2021-06-20T07:41:05.360104Z"
    },
    "papermill": {
     "duration": 0.091038,
     "end_time": "2021-06-20T09:11:49.900580",
     "exception": false,
     "start_time": "2021-06-20T09:11:49.809542",
     "status": "completed"
    },
    "tags": []
   },
   "outputs": [
    {
     "data": {
      "text/plain": [
       "Delivery              25653\n",
       "Dine-out              17583\n",
       "Desserts               3559\n",
       "Cafes                  1703\n",
       "Drinks & nightlife     1091\n",
       "Buffet                  871\n",
       "Pubs and bars           688\n",
       "Name: listed_in(type), dtype: int64"
      ]
     },
     "execution_count": 39,
     "metadata": {},
     "output_type": "execute_result"
    }
   ],
   "source": [
    "\n",
    "data['listed_in(type)'].value_counts()"
   ]
  },
  {
   "cell_type": "markdown",
   "metadata": {
    "papermill": {
     "duration": 0.071906,
     "end_time": "2021-06-20T09:11:50.045272",
     "exception": false,
     "start_time": "2021-06-20T09:11:49.973366",
     "status": "completed"
    },
    "tags": []
   },
   "source": [
    "# Renaming the column names"
   ]
  },
  {
   "cell_type": "code",
   "execution_count": 40,
   "metadata": {
    "execution": {
     "iopub.execute_input": "2021-06-20T09:11:50.196917Z",
     "iopub.status.busy": "2021-06-20T09:11:50.196296Z",
     "iopub.status.idle": "2021-06-20T09:11:50.200811Z",
     "shell.execute_reply": "2021-06-20T09:11:50.201316Z",
     "shell.execute_reply.started": "2021-06-20T07:41:05.391297Z"
    },
    "papermill": {
     "duration": 0.080606,
     "end_time": "2021-06-20T09:11:50.201505",
     "exception": false,
     "start_time": "2021-06-20T09:11:50.120899",
     "status": "completed"
    },
    "tags": []
   },
   "outputs": [],
   "source": [
    "data.rename(columns={'approx_cost(for two people)':'cost_for_two_people','listed_in(type)':'type','listed_in(city)':'city'},inplace=True)"
   ]
  },
  {
   "cell_type": "code",
   "execution_count": 41,
   "metadata": {
    "execution": {
     "iopub.execute_input": "2021-06-20T09:11:50.345813Z",
     "iopub.status.busy": "2021-06-20T09:11:50.345127Z",
     "iopub.status.idle": "2021-06-20T09:11:50.362886Z",
     "shell.execute_reply": "2021-06-20T09:11:50.363364Z",
     "shell.execute_reply.started": "2021-06-20T07:41:05.403443Z"
    },
    "papermill": {
     "duration": 0.091335,
     "end_time": "2021-06-20T09:11:50.363557",
     "exception": false,
     "start_time": "2021-06-20T09:11:50.272222",
     "status": "completed"
    },
    "tags": []
   },
   "outputs": [
    {
     "data": {
      "text/plain": [
       "BTM                      5071\n",
       "HSR                      2496\n",
       "Koramangala 5th Block    2481\n",
       "JP Nagar                 2219\n",
       "Whitefield               2109\n",
       "                         ... \n",
       "West Bangalore              6\n",
       "Yelahanka                   5\n",
       "Jakkur                      3\n",
       "Rajarajeshwari Nagar        2\n",
       "Peenya                      1\n",
       "Name: location, Length: 93, dtype: int64"
      ]
     },
     "execution_count": 41,
     "metadata": {},
     "output_type": "execute_result"
    }
   ],
   "source": [
    "data.location.value_counts()"
   ]
  },
  {
   "cell_type": "code",
   "execution_count": 42,
   "metadata": {
    "execution": {
     "iopub.execute_input": "2021-06-20T09:11:50.508611Z",
     "iopub.status.busy": "2021-06-20T09:11:50.507990Z",
     "iopub.status.idle": "2021-06-20T09:11:50.517371Z",
     "shell.execute_reply": "2021-06-20T09:11:50.516818Z",
     "shell.execute_reply.started": "2021-06-20T07:41:05.431494Z"
    },
    "papermill": {
     "duration": 0.082369,
     "end_time": "2021-06-20T09:11:50.517509",
     "exception": false,
     "start_time": "2021-06-20T09:11:50.435140",
     "status": "completed"
    },
    "tags": []
   },
   "outputs": [
    {
     "data": {
      "text/plain": [
       "array(['800', '300', '600', '700', '550', '500', '450', '650', '400',\n",
       "       '900', '200', '750', '150', '850', '100', '1,200', '350', '250',\n",
       "       '950', '1,000', '1,500', '1,300', '199', '80', '1,100', '160',\n",
       "       '1,600', '230', '130', '50', '190', '1,700', '1,400', '180',\n",
       "       '1,350', '2,200', '2,000', '1,800', '1,900', '330', '2,500',\n",
       "       '2,100', '3,000', '2,800', '3,400', '40', '1,250', '3,500',\n",
       "       '4,000', '2,400', '2,600', '120', '1,450', '469', '70', '3,200',\n",
       "       '60', '560', '240', '360', '6,000', '1,050', '2,300', '4,100',\n",
       "       '5,000', '3,700', '1,650', '2,700', '4,500', '140'], dtype=object)"
      ]
     },
     "execution_count": 42,
     "metadata": {},
     "output_type": "execute_result"
    }
   ],
   "source": [
    "data.cost_for_two_people.unique()"
   ]
  },
  {
   "cell_type": "markdown",
   "metadata": {
    "papermill": {
     "duration": 0.070447,
     "end_time": "2021-06-20T09:11:50.659012",
     "exception": false,
     "start_time": "2021-06-20T09:11:50.588565",
     "status": "completed"
    },
    "tags": []
   },
   "source": [
    "# Explorartory Data Analysis"
   ]
  },
  {
   "cell_type": "code",
   "execution_count": 43,
   "metadata": {
    "execution": {
     "iopub.execute_input": "2021-06-20T09:11:50.806214Z",
     "iopub.status.busy": "2021-06-20T09:11:50.805591Z",
     "iopub.status.idle": "2021-06-20T09:11:50.809507Z",
     "shell.execute_reply": "2021-06-20T09:11:50.809943Z",
     "shell.execute_reply.started": "2021-06-20T07:41:05.454593Z"
    },
    "papermill": {
     "duration": 0.078241,
     "end_time": "2021-06-20T09:11:50.810112",
     "exception": false,
     "start_time": "2021-06-20T09:11:50.731871",
     "status": "completed"
    },
    "tags": []
   },
   "outputs": [],
   "source": [
    "def handle_cost_for_two_people(value):\n",
    "    value=str(value)\n",
    "    if ',' in value:\n",
    "        value=value.replace(',','')\n",
    "        return float(value)\n",
    "    else:\n",
    "        return float(value)"
   ]
  },
  {
   "cell_type": "code",
   "execution_count": 44,
   "metadata": {
    "execution": {
     "iopub.execute_input": "2021-06-20T09:11:50.985617Z",
     "iopub.status.busy": "2021-06-20T09:11:50.972672Z",
     "iopub.status.idle": "2021-06-20T09:11:51.029444Z",
     "shell.execute_reply": "2021-06-20T09:11:51.028819Z",
     "shell.execute_reply.started": "2021-06-20T07:41:05.463511Z"
    },
    "papermill": {
     "duration": 0.14795,
     "end_time": "2021-06-20T09:11:51.029654",
     "exception": false,
     "start_time": "2021-06-20T09:11:50.881704",
     "status": "completed"
    },
    "tags": []
   },
   "outputs": [
    {
     "data": {
      "text/plain": [
       "0         800.0\n",
       "1         800.0\n",
       "2         800.0\n",
       "3         300.0\n",
       "4         600.0\n",
       "          ...  \n",
       "51712    1500.0\n",
       "51713     600.0\n",
       "51714    2000.0\n",
       "51715    2500.0\n",
       "51716    1500.0\n",
       "Name: cost_for_two_people, Length: 51148, dtype: float64"
      ]
     },
     "execution_count": 44,
     "metadata": {},
     "output_type": "execute_result"
    }
   ],
   "source": [
    "data.cost_for_two_people.apply(handle_cost_for_two_people)"
   ]
  },
  {
   "cell_type": "code",
   "execution_count": 45,
   "metadata": {
    "execution": {
     "iopub.execute_input": "2021-06-20T09:11:51.218751Z",
     "iopub.status.busy": "2021-06-20T09:11:51.218075Z",
     "iopub.status.idle": "2021-06-20T09:11:51.231385Z",
     "shell.execute_reply": "2021-06-20T09:11:51.230847Z",
     "shell.execute_reply.started": "2021-06-20T07:41:05.522563Z"
    },
    "papermill": {
     "duration": 0.127442,
     "end_time": "2021-06-20T09:11:51.231544",
     "exception": false,
     "start_time": "2021-06-20T09:11:51.104102",
     "status": "completed"
    },
    "tags": []
   },
   "outputs": [
    {
     "name": "stdout",
     "output_type": "stream",
     "text": [
      "<class 'pandas.core.frame.DataFrame'>\n",
      "Int64Index: 51148 entries, 0 to 51716\n",
      "Data columns (total 10 columns):\n",
      " #   Column               Non-Null Count  Dtype  \n",
      "---  ------               --------------  -----  \n",
      " 0   name                 51148 non-null  object \n",
      " 1   online_order         51148 non-null  object \n",
      " 2   book_table           51148 non-null  object \n",
      " 3   rate                 51148 non-null  float64\n",
      " 4   votes                51148 non-null  int64  \n",
      " 5   location             51148 non-null  object \n",
      " 6   rest_type            51148 non-null  object \n",
      " 7   cuisines             51148 non-null  object \n",
      " 8   cost_for_two_people  51148 non-null  object \n",
      " 9   type                 51148 non-null  object \n",
      "dtypes: float64(1), int64(1), object(8)\n",
      "memory usage: 4.3+ MB\n"
     ]
    }
   ],
   "source": [
    "data.info(\n",
    ")"
   ]
  },
  {
   "cell_type": "code",
   "execution_count": 46,
   "metadata": {
    "execution": {
     "iopub.execute_input": "2021-06-20T09:11:51.395717Z",
     "iopub.status.busy": "2021-06-20T09:11:51.389847Z",
     "iopub.status.idle": "2021-06-20T09:11:51.398848Z",
     "shell.execute_reply": "2021-06-20T09:11:51.398180Z",
     "shell.execute_reply.started": "2021-06-20T07:41:05.580782Z"
    },
    "papermill": {
     "duration": 0.092661,
     "end_time": "2021-06-20T09:11:51.398989",
     "exception": false,
     "start_time": "2021-06-20T09:11:51.306328",
     "status": "completed"
    },
    "tags": []
   },
   "outputs": [],
   "source": [
    "count_of_restuarant_type=data['rest_type'].value_counts()"
   ]
  },
  {
   "cell_type": "code",
   "execution_count": 47,
   "metadata": {
    "execution": {
     "iopub.execute_input": "2021-06-20T09:11:51.550740Z",
     "iopub.status.busy": "2021-06-20T09:11:51.550013Z",
     "iopub.status.idle": "2021-06-20T09:11:51.553412Z",
     "shell.execute_reply": "2021-06-20T09:11:51.552790Z",
     "shell.execute_reply.started": "2021-06-20T07:41:05.600338Z"
    },
    "papermill": {
     "duration": 0.082168,
     "end_time": "2021-06-20T09:11:51.553554",
     "exception": false,
     "start_time": "2021-06-20T09:11:51.471386",
     "status": "completed"
    },
    "tags": []
   },
   "outputs": [],
   "source": [
    "count_of_restaurant_type_less_then_1000=count_of_restuarant_type[count_of_restuarant_type<1000]"
   ]
  },
  {
   "cell_type": "code",
   "execution_count": 48,
   "metadata": {
    "execution": {
     "iopub.execute_input": "2021-06-20T09:11:51.707556Z",
     "iopub.status.busy": "2021-06-20T09:11:51.706645Z",
     "iopub.status.idle": "2021-06-20T09:11:51.710259Z",
     "shell.execute_reply": "2021-06-20T09:11:51.710717Z",
     "shell.execute_reply.started": "2021-06-20T07:41:05.614837Z"
    },
    "papermill": {
     "duration": 0.083518,
     "end_time": "2021-06-20T09:11:51.710890",
     "exception": false,
     "start_time": "2021-06-20T09:11:51.627372",
     "status": "completed"
    },
    "tags": []
   },
   "outputs": [
    {
     "data": {
      "text/plain": [
       "Beverage Shop                 865\n",
       "Bar                           686\n",
       "Food Court                    619\n",
       "Sweet Shop                    468\n",
       "Bar, Casual Dining            415\n",
       "                             ... \n",
       "Food Court, Beverage Shop       2\n",
       "Dessert Parlor, Kiosk           2\n",
       "Pop Up                          2\n",
       "Quick Bites, Kiosk              1\n",
       "Sweet Shop, Dessert Parlor      1\n",
       "Name: rest_type, Length: 85, dtype: int64"
      ]
     },
     "execution_count": 48,
     "metadata": {},
     "output_type": "execute_result"
    }
   ],
   "source": [
    "count_of_restaurant_type_less_then_1000"
   ]
  },
  {
   "cell_type": "code",
   "execution_count": 49,
   "metadata": {
    "execution": {
     "iopub.execute_input": "2021-06-20T09:11:51.863122Z",
     "iopub.status.busy": "2021-06-20T09:11:51.862163Z",
     "iopub.status.idle": "2021-06-20T09:11:51.866408Z",
     "shell.execute_reply": "2021-06-20T09:11:51.866928Z",
     "shell.execute_reply.started": "2021-06-20T07:41:05.633715Z"
    },
    "papermill": {
     "duration": 0.080738,
     "end_time": "2021-06-20T09:11:51.867105",
     "exception": false,
     "start_time": "2021-06-20T09:11:51.786367",
     "status": "completed"
    },
    "tags": []
   },
   "outputs": [],
   "source": [
    "def handle_rest_type(value):\n",
    "    if(value in count_of_restaurant_type_less_then_1000):\n",
    "        return 'other'\n",
    "    else:\n",
    "        return value"
   ]
  },
  {
   "cell_type": "code",
   "execution_count": 50,
   "metadata": {
    "execution": {
     "iopub.execute_input": "2021-06-20T09:11:52.015960Z",
     "iopub.status.busy": "2021-06-20T09:11:52.015291Z",
     "iopub.status.idle": "2021-06-20T09:11:52.098896Z",
     "shell.execute_reply": "2021-06-20T09:11:52.099502Z",
     "shell.execute_reply.started": "2021-06-20T07:41:05.642707Z"
    },
    "papermill": {
     "duration": 0.159751,
     "end_time": "2021-06-20T09:11:52.099686",
     "exception": false,
     "start_time": "2021-06-20T09:11:51.939935",
     "status": "completed"
    },
    "tags": []
   },
   "outputs": [],
   "source": [
    "data.rest_type=data.rest_type.apply(handle_rest_type)"
   ]
  },
  {
   "cell_type": "code",
   "execution_count": 51,
   "metadata": {
    "execution": {
     "iopub.execute_input": "2021-06-20T09:11:52.248330Z",
     "iopub.status.busy": "2021-06-20T09:11:52.247730Z",
     "iopub.status.idle": "2021-06-20T09:11:52.265694Z",
     "shell.execute_reply": "2021-06-20T09:11:52.266177Z",
     "shell.execute_reply.started": "2021-06-20T07:41:05.74021Z"
    },
    "papermill": {
     "duration": 0.094057,
     "end_time": "2021-06-20T09:11:52.266359",
     "exception": false,
     "start_time": "2021-06-20T09:11:52.172302",
     "status": "completed"
    },
    "tags": []
   },
   "outputs": [
    {
     "data": {
      "text/plain": [
       "Quick Bites           19046\n",
       "Casual Dining         10273\n",
       "other                  9028\n",
       "Cafe                   3687\n",
       "Delivery               2578\n",
       "Dessert Parlor         2245\n",
       "Takeaway, Delivery     2014\n",
       "Bakery                 1141\n",
       "Casual Dining, Bar     1136\n",
       "Name: rest_type, dtype: int64"
      ]
     },
     "execution_count": 51,
     "metadata": {},
     "output_type": "execute_result"
    }
   ],
   "source": [
    "data.rest_type.value_counts()"
   ]
  },
  {
   "cell_type": "code",
   "execution_count": 52,
   "metadata": {
    "execution": {
     "iopub.execute_input": "2021-06-20T09:11:52.417198Z",
     "iopub.status.busy": "2021-06-20T09:11:52.416246Z",
     "iopub.status.idle": "2021-06-20T09:11:52.432122Z",
     "shell.execute_reply": "2021-06-20T09:11:52.432592Z",
     "shell.execute_reply.started": "2021-06-20T07:41:05.76384Z"
    },
    "papermill": {
     "duration": 0.091978,
     "end_time": "2021-06-20T09:11:52.432771",
     "exception": false,
     "start_time": "2021-06-20T09:11:52.340793",
     "status": "completed"
    },
    "tags": []
   },
   "outputs": [],
   "source": [
    "locations=data.location.value_counts()"
   ]
  },
  {
   "cell_type": "code",
   "execution_count": 53,
   "metadata": {
    "execution": {
     "iopub.execute_input": "2021-06-20T09:11:52.582906Z",
     "iopub.status.busy": "2021-06-20T09:11:52.581974Z",
     "iopub.status.idle": "2021-06-20T09:11:52.586415Z",
     "shell.execute_reply": "2021-06-20T09:11:52.586896Z",
     "shell.execute_reply.started": "2021-06-20T07:41:05.784828Z"
    },
    "papermill": {
     "duration": 0.080723,
     "end_time": "2021-06-20T09:11:52.587085",
     "exception": false,
     "start_time": "2021-06-20T09:11:52.506362",
     "status": "completed"
    },
    "tags": []
   },
   "outputs": [],
   "source": [
    "location_less_then_300=locations[locations<300]"
   ]
  },
  {
   "cell_type": "code",
   "execution_count": 54,
   "metadata": {
    "execution": {
     "iopub.execute_input": "2021-06-20T09:11:52.737881Z",
     "iopub.status.busy": "2021-06-20T09:11:52.736901Z",
     "iopub.status.idle": "2021-06-20T09:11:52.741145Z",
     "shell.execute_reply": "2021-06-20T09:11:52.741695Z",
     "shell.execute_reply.started": "2021-06-20T07:41:05.799489Z"
    },
    "papermill": {
     "duration": 0.080957,
     "end_time": "2021-06-20T09:11:52.741861",
     "exception": false,
     "start_time": "2021-06-20T09:11:52.660904",
     "status": "completed"
    },
    "tags": []
   },
   "outputs": [],
   "source": [
    "def handle_locations(value):\n",
    "    if(value in location_less_then_300):\n",
    "        return 'other'\n",
    "    else:\n",
    "        return value"
   ]
  },
  {
   "cell_type": "code",
   "execution_count": 55,
   "metadata": {
    "execution": {
     "iopub.execute_input": "2021-06-20T09:11:52.890521Z",
     "iopub.status.busy": "2021-06-20T09:11:52.889924Z",
     "iopub.status.idle": "2021-06-20T09:11:52.972183Z",
     "shell.execute_reply": "2021-06-20T09:11:52.972692Z",
     "shell.execute_reply.started": "2021-06-20T07:41:05.81214Z"
    },
    "papermill": {
     "duration": 0.157367,
     "end_time": "2021-06-20T09:11:52.972886",
     "exception": false,
     "start_time": "2021-06-20T09:11:52.815519",
     "status": "completed"
    },
    "tags": []
   },
   "outputs": [],
   "source": [
    "data.location=data.location.apply(handle_locations)"
   ]
  },
  {
   "cell_type": "code",
   "execution_count": 56,
   "metadata": {
    "execution": {
     "iopub.execute_input": "2021-06-20T09:11:53.123782Z",
     "iopub.status.busy": "2021-06-20T09:11:53.123112Z",
     "iopub.status.idle": "2021-06-20T09:11:53.141512Z",
     "shell.execute_reply": "2021-06-20T09:11:53.142059Z",
     "shell.execute_reply.started": "2021-06-20T07:41:05.90812Z"
    },
    "papermill": {
     "duration": 0.095663,
     "end_time": "2021-06-20T09:11:53.142239",
     "exception": false,
     "start_time": "2021-06-20T09:11:53.046576",
     "status": "completed"
    },
    "tags": []
   },
   "outputs": [
    {
     "data": {
      "text/plain": [
       "BTM                      5071\n",
       "other                    4962\n",
       "HSR                      2496\n",
       "Koramangala 5th Block    2481\n",
       "JP Nagar                 2219\n",
       "Whitefield               2109\n",
       "Indiranagar              2033\n",
       "Jayanagar                1916\n",
       "Marathahalli             1808\n",
       "Bannerghatta Road        1611\n",
       "Bellandur                1271\n",
       "Electronic City          1248\n",
       "Koramangala 1st Block    1237\n",
       "Brigade Road             1218\n",
       "Koramangala 7th Block    1176\n",
       "Koramangala 6th Block    1129\n",
       "Sarjapur Road            1049\n",
       "Koramangala 4th Block    1017\n",
       "Ulsoor                   1017\n",
       "Banashankari              904\n",
       "MG Road                   894\n",
       "Kalyan Nagar              841\n",
       "Richmond Road             804\n",
       "Malleshwaram              724\n",
       "Frazer Town               720\n",
       "Basavanagudi              684\n",
       "Residency Road            674\n",
       "Brookefield               656\n",
       "Banaswadi                 645\n",
       "New BEL Road              644\n",
       "Kammanahalli              640\n",
       "Rajajinagar               591\n",
       "Church Street             569\n",
       "Lavelle Road              523\n",
       "Shanti Nagar              511\n",
       "Shivajinagar              499\n",
       "Cunningham Road           491\n",
       "Domlur                    482\n",
       "Old Airport Road          437\n",
       "Ejipura                   434\n",
       "Commercial Street         370\n",
       "St. Marks Road            343\n",
       "Name: location, dtype: int64"
      ]
     },
     "execution_count": 56,
     "metadata": {},
     "output_type": "execute_result"
    }
   ],
   "source": [
    "data.location.value_counts()"
   ]
  },
  {
   "cell_type": "code",
   "execution_count": 57,
   "metadata": {
    "execution": {
     "iopub.execute_input": "2021-06-20T09:11:53.293291Z",
     "iopub.status.busy": "2021-06-20T09:11:53.292708Z",
     "iopub.status.idle": "2021-06-20T09:11:53.309261Z",
     "shell.execute_reply": "2021-06-20T09:11:53.309778Z",
     "shell.execute_reply.started": "2021-06-20T07:41:05.932344Z"
    },
    "papermill": {
     "duration": 0.09422,
     "end_time": "2021-06-20T09:11:53.309971",
     "exception": false,
     "start_time": "2021-06-20T09:11:53.215751",
     "status": "completed"
    },
    "tags": []
   },
   "outputs": [],
   "source": [
    "cuisines=data.cuisines.value_counts()"
   ]
  },
  {
   "cell_type": "code",
   "execution_count": 58,
   "metadata": {
    "execution": {
     "iopub.execute_input": "2021-06-20T09:11:53.459658Z",
     "iopub.status.busy": "2021-06-20T09:11:53.458986Z",
     "iopub.status.idle": "2021-06-20T09:11:53.463174Z",
     "shell.execute_reply": "2021-06-20T09:11:53.463742Z",
     "shell.execute_reply.started": "2021-06-20T07:41:05.954981Z"
    },
    "papermill": {
     "duration": 0.080406,
     "end_time": "2021-06-20T09:11:53.463930",
     "exception": false,
     "start_time": "2021-06-20T09:11:53.383524",
     "status": "completed"
    },
    "tags": []
   },
   "outputs": [],
   "source": [
    "cuisines_less_then_100=cuisines[cuisines<100]"
   ]
  },
  {
   "cell_type": "code",
   "execution_count": 59,
   "metadata": {
    "execution": {
     "iopub.execute_input": "2021-06-20T09:11:53.615137Z",
     "iopub.status.busy": "2021-06-20T09:11:53.614431Z",
     "iopub.status.idle": "2021-06-20T09:11:53.618214Z",
     "shell.execute_reply": "2021-06-20T09:11:53.618747Z",
     "shell.execute_reply.started": "2021-06-20T07:41:05.972113Z"
    },
    "papermill": {
     "duration": 0.081291,
     "end_time": "2021-06-20T09:11:53.618922",
     "exception": false,
     "start_time": "2021-06-20T09:11:53.537631",
     "status": "completed"
    },
    "tags": []
   },
   "outputs": [],
   "source": [
    "def handle_cuisines(value):\n",
    "    if(value in cuisines_less_then_100):\n",
    "        return 'other'\n",
    "    else:\n",
    "        return value"
   ]
  },
  {
   "cell_type": "code",
   "execution_count": 60,
   "metadata": {
    "execution": {
     "iopub.execute_input": "2021-06-20T09:11:53.768389Z",
     "iopub.status.busy": "2021-06-20T09:11:53.767710Z",
     "iopub.status.idle": "2021-06-20T09:11:53.852313Z",
     "shell.execute_reply": "2021-06-20T09:11:53.852904Z",
     "shell.execute_reply.started": "2021-06-20T07:41:05.985063Z"
    },
    "papermill": {
     "duration": 0.161055,
     "end_time": "2021-06-20T09:11:53.853096",
     "exception": false,
     "start_time": "2021-06-20T09:11:53.692041",
     "status": "completed"
    },
    "tags": []
   },
   "outputs": [],
   "source": [
    "data.cuisines=data.cuisines.apply(handle_cuisines)"
   ]
  },
  {
   "cell_type": "code",
   "execution_count": 61,
   "metadata": {
    "execution": {
     "iopub.execute_input": "2021-06-20T09:11:54.004890Z",
     "iopub.status.busy": "2021-06-20T09:11:54.004161Z",
     "iopub.status.idle": "2021-06-20T09:11:54.019805Z",
     "shell.execute_reply": "2021-06-20T09:11:54.019162Z",
     "shell.execute_reply.started": "2021-06-20T07:41:06.085457Z"
    },
    "papermill": {
     "duration": 0.091623,
     "end_time": "2021-06-20T09:11:54.019944",
     "exception": false,
     "start_time": "2021-06-20T09:11:53.928321",
     "status": "completed"
    },
    "tags": []
   },
   "outputs": [
    {
     "data": {
      "text/plain": [
       "70"
      ]
     },
     "execution_count": 61,
     "metadata": {},
     "output_type": "execute_result"
    }
   ],
   "source": [
    "data.cuisines.nunique()"
   ]
  },
  {
   "cell_type": "markdown",
   "metadata": {
    "papermill": {
     "duration": 0.07759,
     "end_time": "2021-06-20T09:11:54.172656",
     "exception": false,
     "start_time": "2021-06-20T09:11:54.095066",
     "status": "completed"
    },
    "tags": []
   },
   "source": [
    "# Data Visualization"
   ]
  },
  {
   "cell_type": "code",
   "execution_count": 62,
   "metadata": {
    "execution": {
     "iopub.execute_input": "2021-06-20T09:11:54.336580Z",
     "iopub.status.busy": "2021-06-20T09:11:54.335847Z",
     "iopub.status.idle": "2021-06-20T09:11:54.872564Z",
     "shell.execute_reply": "2021-06-20T09:11:54.872033Z",
     "shell.execute_reply.started": "2021-06-20T07:41:06.105808Z"
    },
    "papermill": {
     "duration": 0.62307,
     "end_time": "2021-06-20T09:11:54.872712",
     "exception": false,
     "start_time": "2021-06-20T09:11:54.249642",
     "status": "completed"
    },
    "tags": []
   },
   "outputs": [
    {
     "data": {
      "text/plain": [
       "(array([ 0,  1,  2,  3,  4,  5,  6,  7,  8,  9, 10, 11, 12, 13, 14, 15, 16,\n",
       "        17, 18, 19, 20, 21, 22, 23, 24, 25, 26, 27, 28, 29, 30, 31, 32, 33,\n",
       "        34, 35, 36, 37, 38, 39, 40, 41]),\n",
       " [Text(0, 0, 'Banashankari'),\n",
       "  Text(1, 0, 'Basavanagudi'),\n",
       "  Text(2, 0, 'other'),\n",
       "  Text(3, 0, 'Jayanagar'),\n",
       "  Text(4, 0, 'JP Nagar'),\n",
       "  Text(5, 0, 'Bannerghatta Road'),\n",
       "  Text(6, 0, 'BTM'),\n",
       "  Text(7, 0, 'Electronic City'),\n",
       "  Text(8, 0, 'HSR'),\n",
       "  Text(9, 0, 'Marathahalli'),\n",
       "  Text(10, 0, 'Shanti Nagar'),\n",
       "  Text(11, 0, 'Koramangala 5th Block'),\n",
       "  Text(12, 0, 'Richmond Road'),\n",
       "  Text(13, 0, 'Koramangala 7th Block'),\n",
       "  Text(14, 0, 'Koramangala 4th Block'),\n",
       "  Text(15, 0, 'Bellandur'),\n",
       "  Text(16, 0, 'Sarjapur Road'),\n",
       "  Text(17, 0, 'Whitefield'),\n",
       "  Text(18, 0, 'Old Airport Road'),\n",
       "  Text(19, 0, 'Indiranagar'),\n",
       "  Text(20, 0, 'Koramangala 1st Block'),\n",
       "  Text(21, 0, 'Frazer Town'),\n",
       "  Text(22, 0, 'MG Road'),\n",
       "  Text(23, 0, 'Brigade Road'),\n",
       "  Text(24, 0, 'Lavelle Road'),\n",
       "  Text(25, 0, 'Church Street'),\n",
       "  Text(26, 0, 'Ulsoor'),\n",
       "  Text(27, 0, 'Residency Road'),\n",
       "  Text(28, 0, 'Shivajinagar'),\n",
       "  Text(29, 0, 'St. Marks Road'),\n",
       "  Text(30, 0, 'Cunningham Road'),\n",
       "  Text(31, 0, 'Commercial Street'),\n",
       "  Text(32, 0, 'Domlur'),\n",
       "  Text(33, 0, 'Ejipura'),\n",
       "  Text(34, 0, 'Malleshwaram'),\n",
       "  Text(35, 0, 'Kammanahalli'),\n",
       "  Text(36, 0, 'Koramangala 6th Block'),\n",
       "  Text(37, 0, 'Brookefield'),\n",
       "  Text(38, 0, 'Rajajinagar'),\n",
       "  Text(39, 0, 'Banaswadi'),\n",
       "  Text(40, 0, 'Kalyan Nagar'),\n",
       "  Text(41, 0, 'New BEL Road')])"
      ]
     },
     "execution_count": 62,
     "metadata": {},
     "output_type": "execute_result"
    },
    {
     "data": {
      "image/png": "[encoded data removed]",
      "text/plain": [
       "<Figure size 1440x720 with 1 Axes>"
      ]
     },
     "metadata": {
      "needs_background": "light"
     },
     "output_type": "display_data"
    }
   ],
   "source": [
    "plt.figure(figsize=(20,10))\n",
    "sns.countplot(x='location',data=data)\n",
    "plt.xticks(rotation=90)"
   ]
  },
  {
   "cell_type": "code",
   "execution_count": 63,
   "metadata": {
    "execution": {
     "iopub.execute_input": "2021-06-20T09:11:55.057261Z",
     "iopub.status.busy": "2021-06-20T09:11:55.041610Z",
     "iopub.status.idle": "2021-06-20T09:11:55.204565Z",
     "shell.execute_reply": "2021-06-20T09:11:55.205005Z",
     "shell.execute_reply.started": "2021-06-20T07:41:06.664964Z"
    },
    "papermill": {
     "duration": 0.257342,
     "end_time": "2021-06-20T09:11:55.205178",
     "exception": false,
     "start_time": "2021-06-20T09:11:54.947836",
     "status": "completed"
    },
    "tags": []
   },
   "outputs": [
    {
     "data": {
      "text/plain": [
       "<AxesSubplot:xlabel='online_order', ylabel='count'>"
      ]
     },
     "execution_count": 63,
     "metadata": {},
     "output_type": "execute_result"
    },
    {
     "data": {
      "image/png": "[encoded data removed]",
      "text/plain": [
       "<Figure size 360x576 with 1 Axes>"
      ]
     },
     "metadata": {
      "needs_background": "light"
     },
     "output_type": "display_data"
    }
   ],
   "source": [
    "plt.figure(figsize=(5,8))\n",
    "sns.countplot(x='online_order',data=data,palette='inferno')\n"
   ]
  },
  {
   "cell_type": "code",
   "execution_count": 64,
   "metadata": {
    "execution": {
     "iopub.execute_input": "2021-06-20T09:11:55.397807Z",
     "iopub.status.busy": "2021-06-20T09:11:55.396887Z",
     "iopub.status.idle": "2021-06-20T09:11:55.530379Z",
     "shell.execute_reply": "2021-06-20T09:11:55.529756Z",
     "shell.execute_reply.started": "2021-06-20T07:41:06.843119Z"
    },
    "papermill": {
     "duration": 0.247424,
     "end_time": "2021-06-20T09:11:55.530519",
     "exception": false,
     "start_time": "2021-06-20T09:11:55.283095",
     "status": "completed"
    },
    "tags": []
   },
   "outputs": [
    {
     "data": {
      "text/plain": [
       "<AxesSubplot:xlabel='book_table', ylabel='count'>"
      ]
     },
     "execution_count": 64,
     "metadata": {},
     "output_type": "execute_result"
    },
    {
     "data": {
      "image/png": "[encoded data removed]",
      "text/plain": [
       "<Figure size 432x576 with 1 Axes>"
      ]
     },
     "metadata": {
      "needs_background": "light"
     },
     "output_type": "display_data"
    }
   ],
   "source": [
    "plt.figure(figsize=(6,8))\n",
    "sns.countplot(x='book_table',data=data)\n"
   ]
  },
  {
   "cell_type": "code",
   "execution_count": 65,
   "metadata": {
    "execution": {
     "iopub.execute_input": "2021-06-20T09:11:55.704554Z",
     "iopub.status.busy": "2021-06-20T09:11:55.695522Z",
     "iopub.status.idle": "2021-06-20T09:11:55.983429Z",
     "shell.execute_reply": "2021-06-20T09:11:55.983933Z",
     "shell.execute_reply.started": "2021-06-20T07:41:07.014473Z"
    },
    "papermill": {
     "duration": 0.37602,
     "end_time": "2021-06-20T09:11:55.984113",
     "exception": false,
     "start_time": "2021-06-20T09:11:55.608093",
     "status": "completed"
    },
    "tags": []
   },
   "outputs": [
    {
     "data": {
      "text/plain": [
       "<AxesSubplot:xlabel='book_table', ylabel='rate'>"
      ]
     },
     "execution_count": 65,
     "metadata": {},
     "output_type": "execute_result"
    },
    {
     "data": {
      "image/png": "[encoded data removed]",
      "text/plain": [
       "<Figure size 576x576 with 1 Axes>"
      ]
     },
     "metadata": {
      "needs_background": "light"
     },
     "output_type": "display_data"
    }
   ],
   "source": [
    "plt.figure(figsize=(8,8))\n",
    "sns.boxplot(x='book_table',data=data,y='rate',palette='rainbow')\n"
   ]
  },
  {
   "cell_type": "code",
   "execution_count": 66,
   "metadata": {
    "execution": {
     "iopub.execute_input": "2021-06-20T09:11:56.156596Z",
     "iopub.status.busy": "2021-06-20T09:11:56.155879Z",
     "iopub.status.idle": "2021-06-20T09:11:56.340681Z",
     "shell.execute_reply": "2021-06-20T09:11:56.339953Z",
     "shell.execute_reply.started": "2021-06-20T07:41:07.212037Z"
    },
    "papermill": {
     "duration": 0.276521,
     "end_time": "2021-06-20T09:11:56.340850",
     "exception": false,
     "start_time": "2021-06-20T09:11:56.064329",
     "status": "completed"
    },
    "tags": []
   },
   "outputs": [
    {
     "data": {
      "text/plain": [
       "<AxesSubplot:xlabel='online_order', ylabel='rate'>"
      ]
     },
     "execution_count": 66,
     "metadata": {},
     "output_type": "execute_result"
    },
    {
     "data": {
      "image/png": "[encoded data removed]",
      "text/plain": [
       "<Figure size 576x576 with 1 Axes>"
      ]
     },
     "metadata": {
      "needs_background": "light"
     },
     "output_type": "display_data"
    }
   ],
   "source": [
    "plt.figure(figsize=(8,8))\n",
    "sns.boxplot(x='online_order',data=data,y='rate',palette='GnBu')"
   ]
  },
  {
   "cell_type": "code",
   "execution_count": 67,
   "metadata": {
    "execution": {
     "iopub.execute_input": "2021-06-20T09:11:56.507451Z",
     "iopub.status.busy": "2021-06-20T09:11:56.505433Z",
     "iopub.status.idle": "2021-06-20T09:11:56.523439Z",
     "shell.execute_reply": "2021-06-20T09:11:56.522777Z",
     "shell.execute_reply.started": "2021-06-20T07:41:24.294016Z"
    },
    "papermill": {
     "duration": 0.102881,
     "end_time": "2021-06-20T09:11:56.523583",
     "exception": false,
     "start_time": "2021-06-20T09:11:56.420702",
     "status": "completed"
    },
    "tags": []
   },
   "outputs": [],
   "source": [
    "df=data.groupby(['location','online_order'])['name'].count()"
   ]
  },
  {
   "cell_type": "code",
   "execution_count": 68,
   "metadata": {
    "execution": {
     "iopub.execute_input": "2021-06-20T09:11:56.689536Z",
     "iopub.status.busy": "2021-06-20T09:11:56.688889Z",
     "iopub.status.idle": "2021-06-20T09:11:56.697389Z",
     "shell.execute_reply": "2021-06-20T09:11:56.696820Z",
     "shell.execute_reply.started": "2021-06-20T07:42:57.644249Z"
    },
    "papermill": {
     "duration": 0.093565,
     "end_time": "2021-06-20T09:11:56.697534",
     "exception": false,
     "start_time": "2021-06-20T09:11:56.603969",
     "status": "completed"
    },
    "tags": []
   },
   "outputs": [],
   "source": [
    "df.to_csv('Location_wise_online_orders.csv')"
   ]
  },
  {
   "cell_type": "code",
   "execution_count": 76,
   "metadata": {
    "execution": {
     "iopub.execute_input": "2021-06-20T09:11:56.870975Z",
     "iopub.status.busy": "2021-06-20T09:11:56.865081Z",
     "iopub.status.idle": "2021-06-20T09:11:56.883728Z",
     "shell.execute_reply": "2021-06-20T09:11:56.884185Z",
     "shell.execute_reply.started": "2021-06-20T07:59:44.53513Z"
    },
    "papermill": {
     "duration": 0.107137,
     "end_time": "2021-06-20T09:11:56.884383",
     "exception": false,
     "start_time": "2021-06-20T09:11:56.777246",
     "status": "completed"
    },
    "tags": []
   },
   "outputs": [],
   "source": [
    "df=pd.read_csv('Location_wise_online_orders.csv')\n",
    "df=pd.pivot_table(df,columns='online_order',index='location',values=None,fill_value=0,aggfunc=np.sum)"
   ]
  },
  {
   "cell_type": "code",
   "execution_count": 77,
   "metadata": {
    "execution": {
     "iopub.execute_input": "2021-06-20T09:11:57.053580Z",
     "iopub.status.busy": "2021-06-20T09:11:57.052909Z",
     "iopub.status.idle": "2021-06-20T09:11:57.066283Z",
     "shell.execute_reply": "2021-06-20T09:11:57.066809Z",
     "shell.execute_reply.started": "2021-06-20T07:59:46.320706Z"
    },
    "papermill": {
     "duration": 0.098909,
     "end_time": "2021-06-20T09:11:57.066984",
     "exception": false,
     "start_time": "2021-06-20T09:11:56.968075",
     "status": "completed"
    },
    "tags": []
   },
   "outputs": [
    {
     "data": {
      "text/html": [
       "<div>\n",
       "<style scoped>\n",
       "    .dataframe tbody tr th:only-of-type {\n",
       "        vertical-align: middle;\n",
       "    }\n",
       "\n",
       "    .dataframe tbody tr th {\n",
       "        vertical-align: top;\n",
       "    }\n",
       "\n",
       "    .dataframe thead tr th {\n",
       "        text-align: left;\n",
       "    }\n",
       "\n",
       "    .dataframe thead tr:last-of-type th {\n",
       "        text-align: right;\n",
       "    }\n",
       "</style>\n",
       "<table border=\"1\" class=\"dataframe\">\n",
       "  <thead>\n",
       "    <tr>\n",
       "      <th></th>\n",
       "      <th colspan=\"2\" halign=\"left\">name</th>\n",
       "    </tr>\n",
       "    <tr>\n",
       "      <th>online_order</th>\n",
       "      <th>No</th>\n",
       "      <th>Yes</th>\n",
       "    </tr>\n",
       "    <tr>\n",
       "      <th>location</th>\n",
       "      <th></th>\n",
       "      <th></th>\n",
       "    </tr>\n",
       "  </thead>\n",
       "  <tbody>\n",
       "    <tr>\n",
       "      <th>BTM</th>\n",
       "      <td>1766</td>\n",
       "      <td>3305</td>\n",
       "    </tr>\n",
       "    <tr>\n",
       "      <th>Banashankari</th>\n",
       "      <td>397</td>\n",
       "      <td>507</td>\n",
       "    </tr>\n",
       "    <tr>\n",
       "      <th>Banaswadi</th>\n",
       "      <td>302</td>\n",
       "      <td>343</td>\n",
       "    </tr>\n",
       "    <tr>\n",
       "      <th>Bannerghatta Road</th>\n",
       "      <td>687</td>\n",
       "      <td>924</td>\n",
       "    </tr>\n",
       "    <tr>\n",
       "      <th>Basavanagudi</th>\n",
       "      <td>243</td>\n",
       "      <td>441</td>\n",
       "    </tr>\n",
       "    <tr>\n",
       "      <th>Bellandur</th>\n",
       "      <td>519</td>\n",
       "      <td>752</td>\n",
       "    </tr>\n",
       "    <tr>\n",
       "      <th>Brigade Road</th>\n",
       "      <td>553</td>\n",
       "      <td>665</td>\n",
       "    </tr>\n",
       "    <tr>\n",
       "      <th>Brookefield</th>\n",
       "      <td>239</td>\n",
       "      <td>417</td>\n",
       "    </tr>\n",
       "    <tr>\n",
       "      <th>Church Street</th>\n",
       "      <td>226</td>\n",
       "      <td>343</td>\n",
       "    </tr>\n",
       "    <tr>\n",
       "      <th>Commercial Street</th>\n",
       "      <td>228</td>\n",
       "      <td>142</td>\n",
       "    </tr>\n",
       "    <tr>\n",
       "      <th>Cunningham Road</th>\n",
       "      <td>168</td>\n",
       "      <td>323</td>\n",
       "    </tr>\n",
       "    <tr>\n",
       "      <th>Domlur</th>\n",
       "      <td>247</td>\n",
       "      <td>235</td>\n",
       "    </tr>\n",
       "    <tr>\n",
       "      <th>Ejipura</th>\n",
       "      <td>214</td>\n",
       "      <td>220</td>\n",
       "    </tr>\n",
       "    <tr>\n",
       "      <th>Electronic City</th>\n",
       "      <td>676</td>\n",
       "      <td>572</td>\n",
       "    </tr>\n",
       "    <tr>\n",
       "      <th>Frazer Town</th>\n",
       "      <td>288</td>\n",
       "      <td>432</td>\n",
       "    </tr>\n",
       "    <tr>\n",
       "      <th>HSR</th>\n",
       "      <td>585</td>\n",
       "      <td>1911</td>\n",
       "    </tr>\n",
       "    <tr>\n",
       "      <th>Indiranagar</th>\n",
       "      <td>701</td>\n",
       "      <td>1332</td>\n",
       "    </tr>\n",
       "    <tr>\n",
       "      <th>JP Nagar</th>\n",
       "      <td>911</td>\n",
       "      <td>1308</td>\n",
       "    </tr>\n",
       "    <tr>\n",
       "      <th>Jayanagar</th>\n",
       "      <td>552</td>\n",
       "      <td>1364</td>\n",
       "    </tr>\n",
       "    <tr>\n",
       "      <th>Kalyan Nagar</th>\n",
       "      <td>350</td>\n",
       "      <td>491</td>\n",
       "    </tr>\n",
       "    <tr>\n",
       "      <th>Kammanahalli</th>\n",
       "      <td>265</td>\n",
       "      <td>375</td>\n",
       "    </tr>\n",
       "    <tr>\n",
       "      <th>Koramangala 1st Block</th>\n",
       "      <td>384</td>\n",
       "      <td>853</td>\n",
       "    </tr>\n",
       "    <tr>\n",
       "      <th>Koramangala 4th Block</th>\n",
       "      <td>459</td>\n",
       "      <td>558</td>\n",
       "    </tr>\n",
       "    <tr>\n",
       "      <th>Koramangala 5th Block</th>\n",
       "      <td>867</td>\n",
       "      <td>1614</td>\n",
       "    </tr>\n",
       "    <tr>\n",
       "      <th>Koramangala 6th Block</th>\n",
       "      <td>445</td>\n",
       "      <td>684</td>\n",
       "    </tr>\n",
       "    <tr>\n",
       "      <th>Koramangala 7th Block</th>\n",
       "      <td>390</td>\n",
       "      <td>786</td>\n",
       "    </tr>\n",
       "    <tr>\n",
       "      <th>Lavelle Road</th>\n",
       "      <td>317</td>\n",
       "      <td>206</td>\n",
       "    </tr>\n",
       "    <tr>\n",
       "      <th>MG Road</th>\n",
       "      <td>520</td>\n",
       "      <td>374</td>\n",
       "    </tr>\n",
       "    <tr>\n",
       "      <th>Malleshwaram</th>\n",
       "      <td>309</td>\n",
       "      <td>415</td>\n",
       "    </tr>\n",
       "    <tr>\n",
       "      <th>Marathahalli</th>\n",
       "      <td>701</td>\n",
       "      <td>1107</td>\n",
       "    </tr>\n",
       "    <tr>\n",
       "      <th>New BEL Road</th>\n",
       "      <td>255</td>\n",
       "      <td>389</td>\n",
       "    </tr>\n",
       "    <tr>\n",
       "      <th>Old Airport Road</th>\n",
       "      <td>221</td>\n",
       "      <td>216</td>\n",
       "    </tr>\n",
       "    <tr>\n",
       "      <th>Rajajinagar</th>\n",
       "      <td>286</td>\n",
       "      <td>305</td>\n",
       "    </tr>\n",
       "    <tr>\n",
       "      <th>Residency Road</th>\n",
       "      <td>426</td>\n",
       "      <td>248</td>\n",
       "    </tr>\n",
       "    <tr>\n",
       "      <th>Richmond Road</th>\n",
       "      <td>557</td>\n",
       "      <td>247</td>\n",
       "    </tr>\n",
       "    <tr>\n",
       "      <th>Sarjapur Road</th>\n",
       "      <td>324</td>\n",
       "      <td>725</td>\n",
       "    </tr>\n",
       "    <tr>\n",
       "      <th>Shanti Nagar</th>\n",
       "      <td>289</td>\n",
       "      <td>222</td>\n",
       "    </tr>\n",
       "    <tr>\n",
       "      <th>Shivajinagar</th>\n",
       "      <td>354</td>\n",
       "      <td>145</td>\n",
       "    </tr>\n",
       "    <tr>\n",
       "      <th>St. Marks Road</th>\n",
       "      <td>176</td>\n",
       "      <td>167</td>\n",
       "    </tr>\n",
       "    <tr>\n",
       "      <th>Ulsoor</th>\n",
       "      <td>389</td>\n",
       "      <td>628</td>\n",
       "    </tr>\n",
       "    <tr>\n",
       "      <th>Whitefield</th>\n",
       "      <td>986</td>\n",
       "      <td>1123</td>\n",
       "    </tr>\n",
       "    <tr>\n",
       "      <th>other</th>\n",
       "      <td>2065</td>\n",
       "      <td>2897</td>\n",
       "    </tr>\n",
       "  </tbody>\n",
       "</table>\n",
       "</div>"
      ],
      "text/plain": [
       "                       name      \n",
       "online_order             No   Yes\n",
       "location                         \n",
       "BTM                    1766  3305\n",
       "Banashankari            397   507\n",
       "Banaswadi               302   343\n",
       "Bannerghatta Road       687   924\n",
       "Basavanagudi            243   441\n",
       "Bellandur               519   752\n",
       "Brigade Road            553   665\n",
       "Brookefield             239   417\n",
       "Church Street           226   343\n",
       "Commercial Street       228   142\n",
       "Cunningham Road         168   323\n",
       "Domlur                  247   235\n",
       "Ejipura                 214   220\n",
       "Electronic City         676   572\n",
       "Frazer Town             288   432\n",
       "HSR                     585  1911\n",
       "Indiranagar             701  1332\n",
       "JP Nagar                911  1308\n",
       "Jayanagar               552  1364\n",
       "Kalyan Nagar            350   491\n",
       "Kammanahalli            265   375\n",
       "Koramangala 1st Block   384   853\n",
       "Koramangala 4th Block   459   558\n",
       "Koramangala 5th Block   867  1614\n",
       "Koramangala 6th Block   445   684\n",
       "Koramangala 7th Block   390   786\n",
       "Lavelle Road            317   206\n",
       "MG Road                 520   374\n",
       "Malleshwaram            309   415\n",
       "Marathahalli            701  1107\n",
       "New BEL Road            255   389\n",
       "Old Airport Road        221   216\n",
       "Rajajinagar             286   305\n",
       "Residency Road          426   248\n",
       "Richmond Road           557   247\n",
       "Sarjapur Road           324   725\n",
       "Shanti Nagar            289   222\n",
       "Shivajinagar            354   145\n",
       "St. Marks Road          176   167\n",
       "Ulsoor                  389   628\n",
       "Whitefield              986  1123\n",
       "other                  2065  2897"
      ]
     },
     "execution_count": 77,
     "metadata": {},
     "output_type": "execute_result"
    }
   ],
   "source": [
    "df"
   ]
  },
  {
   "cell_type": "code",
   "execution_count": 78,
   "metadata": {
    "execution": {
     "iopub.execute_input": "2021-06-20T09:11:57.232868Z",
     "iopub.status.busy": "2021-06-20T09:11:57.232234Z",
     "iopub.status.idle": "2021-06-20T09:11:57.969328Z",
     "shell.execute_reply": "2021-06-20T09:11:57.969825Z",
     "shell.execute_reply.started": "2021-06-20T08:02:05.598595Z"
    },
    "papermill": {
     "duration": 0.821765,
     "end_time": "2021-06-20T09:11:57.970024",
     "exception": false,
     "start_time": "2021-06-20T09:11:57.148259",
     "status": "completed"
    },
    "tags": []
   },
   "outputs": [
    {
     "data": {
      "text/plain": [
       "<AxesSubplot:xlabel='location'>"
      ]
     },
     "execution_count": 78,
     "metadata": {},
     "output_type": "execute_result"
    },
    {
     "data": {
      "image/png": "[encoded data removed]",
      "text/plain": [
       "<Figure size 1440x720 with 1 Axes>"
      ]
     },
     "metadata": {
      "needs_background": "light"
     },
     "output_type": "display_data"
    }
   ],
   "source": [
    "df.plot(kind='bar',figsize=(20,10))"
   ]
  },
  {
   "cell_type": "code",
   "execution_count": 79,
   "metadata": {
    "execution": {
     "iopub.execute_input": "2021-06-20T09:11:58.143273Z",
     "iopub.status.busy": "2021-06-20T09:11:58.142636Z",
     "iopub.status.idle": "2021-06-20T09:11:58.162100Z",
     "shell.execute_reply": "2021-06-20T09:11:58.162616Z",
     "shell.execute_reply.started": "2021-06-20T08:10:08.426014Z"
    },
    "papermill": {
     "duration": 0.107499,
     "end_time": "2021-06-20T09:11:58.162807",
     "exception": false,
     "start_time": "2021-06-20T09:11:58.055308",
     "status": "completed"
    },
    "tags": []
   },
   "outputs": [],
   "source": [
    "df1=data.groupby(['location','book_table'])['name'].count()"
   ]
  },
  {
   "cell_type": "code",
   "execution_count": 80,
   "metadata": {
    "execution": {
     "iopub.execute_input": "2021-06-20T09:11:58.335768Z",
     "iopub.status.busy": "2021-06-20T09:11:58.335107Z",
     "iopub.status.idle": "2021-06-20T09:11:58.340994Z",
     "shell.execute_reply": "2021-06-20T09:11:58.341497Z",
     "shell.execute_reply.started": "2021-06-20T08:10:08.850276Z"
    },
    "papermill": {
     "duration": 0.095911,
     "end_time": "2021-06-20T09:11:58.341681",
     "exception": false,
     "start_time": "2021-06-20T09:11:58.245770",
     "status": "completed"
    },
    "tags": []
   },
   "outputs": [],
   "source": [
    "df1.to_csv('Location_book_table_fascility.csv')"
   ]
  },
  {
   "cell_type": "code",
   "execution_count": 85,
   "metadata": {
    "execution": {
     "iopub.execute_input": "2021-06-20T09:11:58.510559Z",
     "iopub.status.busy": "2021-06-20T09:11:58.509849Z",
     "iopub.status.idle": "2021-06-20T09:11:58.527429Z",
     "shell.execute_reply": "2021-06-20T09:11:58.527938Z",
     "shell.execute_reply.started": "2021-06-20T08:10:09.939834Z"
    },
    "papermill": {
     "duration": 0.102688,
     "end_time": "2021-06-20T09:11:58.528119",
     "exception": false,
     "start_time": "2021-06-20T09:11:58.425431",
     "status": "completed"
    },
    "tags": []
   },
   "outputs": [],
   "source": [
    "df1=pd.read_csv('C://Users//MAMTA//Downloads//.ipynb_checkpoints//Location_book_table_fascility.csv')\n",
    "df1=pd.pivot_table(df1,columns='book_table',index='location',values=None,fill_value=0,aggfunc=np.sum)"
   ]
  },
  {
   "cell_type": "code",
   "execution_count": 86,
   "metadata": {
    "execution": {
     "iopub.execute_input": "2021-06-20T09:11:58.728111Z",
     "iopub.status.busy": "2021-06-20T09:11:58.725784Z",
     "iopub.status.idle": "2021-06-20T09:11:59.413243Z",
     "shell.execute_reply": "2021-06-20T09:11:59.412663Z",
     "shell.execute_reply.started": "2021-06-20T08:10:37.740965Z"
    },
    "papermill": {
     "duration": 0.803366,
     "end_time": "2021-06-20T09:11:59.413406",
     "exception": false,
     "start_time": "2021-06-20T09:11:58.610040",
     "status": "completed"
    },
    "tags": []
   },
   "outputs": [
    {
     "data": {
      "text/plain": [
       "<AxesSubplot:xlabel='location'>"
      ]
     },
     "execution_count": 86,
     "metadata": {},
     "output_type": "execute_result"
    },
    {
     "data": {
      "image/png": "[encoded data removed]",
      "text/plain": [
       "<Figure size 1440x720 with 1 Axes>"
      ]
     },
     "metadata": {
      "needs_background": "light"
     },
     "output_type": "display_data"
    }
   ],
   "source": [
    "df1.plot(kind='bar',figsize=(20,10))"
   ]
  },
  {
   "cell_type": "code",
   "execution_count": 87,
   "metadata": {
    "execution": {
     "iopub.execute_input": "2021-06-20T09:11:59.601703Z",
     "iopub.status.busy": "2021-06-20T09:11:59.593289Z",
     "iopub.status.idle": "2021-06-20T09:11:59.885718Z",
     "shell.execute_reply": "2021-06-20T09:11:59.885138Z",
     "shell.execute_reply.started": "2021-06-20T08:12:49.260094Z"
    },
    "papermill": {
     "duration": 0.388223,
     "end_time": "2021-06-20T09:11:59.885859",
     "exception": false,
     "start_time": "2021-06-20T09:11:59.497636",
     "status": "completed"
    },
    "tags": []
   },
   "outputs": [
    {
     "data": {
      "text/plain": [
       "<AxesSubplot:xlabel='type', ylabel='rate'>"
      ]
     },
     "execution_count": 87,
     "metadata": {},
     "output_type": "execute_result"
    },
    {
     "data": {
      "image/png": "[encoded data removed]",
      "text/plain": [
       "<Figure size 864x576 with 1 Axes>"
      ]
     },
     "metadata": {
      "needs_background": "light"
     },
     "output_type": "display_data"
    }
   ],
   "source": [
    "plt.figure(figsize=(12,8))\n",
    "sns.boxplot(x='type',data=data,y='rate',palette='rainbow')\n"
   ]
  },
  {
   "cell_type": "code",
   "execution_count": 88,
   "metadata": {
    "execution": {
     "iopub.execute_input": "2021-06-20T09:12:00.068013Z",
     "iopub.status.busy": "2021-06-20T09:12:00.067059Z",
     "iopub.status.idle": "2021-06-20T09:12:00.084007Z",
     "shell.execute_reply": "2021-06-20T09:12:00.083294Z",
     "shell.execute_reply.started": "2021-06-20T08:16:53.282827Z"
    },
    "papermill": {
     "duration": 0.110101,
     "end_time": "2021-06-20T09:12:00.084158",
     "exception": false,
     "start_time": "2021-06-20T09:11:59.974057",
     "status": "completed"
    },
    "tags": []
   },
   "outputs": [],
   "source": [
    "df2=data.groupby(['location','type'])['name'].count()"
   ]
  },
  {
   "cell_type": "code",
   "execution_count": 89,
   "metadata": {
    "execution": {
     "iopub.execute_input": "2021-06-20T09:12:00.267241Z",
     "iopub.status.busy": "2021-06-20T09:12:00.266606Z",
     "iopub.status.idle": "2021-06-20T09:12:00.269494Z",
     "shell.execute_reply": "2021-06-20T09:12:00.268978Z",
     "shell.execute_reply.started": "2021-06-20T08:16:54.263265Z"
    },
    "papermill": {
     "duration": 0.09772,
     "end_time": "2021-06-20T09:12:00.269641",
     "exception": false,
     "start_time": "2021-06-20T09:12:00.171921",
     "status": "completed"
    },
    "tags": []
   },
   "outputs": [],
   "source": [
    "df2.to_csv('Location_wise_type_of_restaurant.csv')"
   ]
  },
  {
   "cell_type": "code",
   "execution_count": 90,
   "metadata": {
    "execution": {
     "iopub.execute_input": "2021-06-20T09:12:00.448513Z",
     "iopub.status.busy": "2021-06-20T09:12:00.447540Z",
     "iopub.status.idle": "2021-06-20T09:12:00.467874Z",
     "shell.execute_reply": "2021-06-20T09:12:00.467192Z",
     "shell.execute_reply.started": "2021-06-20T08:16:55.604046Z"
    },
    "papermill": {
     "duration": 0.111118,
     "end_time": "2021-06-20T09:12:00.468016",
     "exception": false,
     "start_time": "2021-06-20T09:12:00.356898",
     "status": "completed"
    },
    "tags": []
   },
   "outputs": [],
   "source": [
    "df2=pd.read_csv('Location_wise_type_of_restaurant.csv')\n",
    "df2=pd.pivot_table(df2,columns='type',index='location',values=None,fill_value=0,aggfunc=np.sum)"
   ]
  },
  {
   "cell_type": "code",
   "execution_count": 91,
   "metadata": {
    "execution": {
     "iopub.execute_input": "2021-06-20T09:12:00.655209Z",
     "iopub.status.busy": "2021-06-20T09:12:00.646396Z",
     "iopub.status.idle": "2021-06-20T09:12:02.131852Z",
     "shell.execute_reply": "2021-06-20T09:12:02.131297Z",
     "shell.execute_reply.started": "2021-06-20T08:17:10.934542Z"
    },
    "papermill": {
     "duration": 1.578946,
     "end_time": "2021-06-20T09:12:02.131991",
     "exception": false,
     "start_time": "2021-06-20T09:12:00.553045",
     "status": "completed"
    },
    "tags": []
   },
   "outputs": [
    {
     "data": {
      "text/plain": [
       "<AxesSubplot:xlabel='location'>"
      ]
     },
     "execution_count": 91,
     "metadata": {},
     "output_type": "execute_result"
    },
    {
     "data": {
      "image/png": "[encoded data removed]",
      "text/plain": [
       "<Figure size 1440x720 with 1 Axes>"
      ]
     },
     "metadata": {
      "needs_background": "light"
     },
     "output_type": "display_data"
    }
   ],
   "source": [
    "df2.plot(kind='bar',figsize=(20,10))"
   ]
  },
  {
   "cell_type": "code",
   "execution_count": 92,
   "metadata": {
    "execution": {
     "iopub.execute_input": "2021-06-20T09:12:02.368167Z",
     "iopub.status.busy": "2021-06-20T09:12:02.365472Z",
     "iopub.status.idle": "2021-06-20T09:12:02.939214Z",
     "shell.execute_reply": "2021-06-20T09:12:02.939801Z",
     "shell.execute_reply.started": "2021-06-20T08:24:42.623276Z"
    },
    "papermill": {
     "duration": 0.672203,
     "end_time": "2021-06-20T09:12:02.939994",
     "exception": false,
     "start_time": "2021-06-20T09:12:02.267791",
     "status": "completed"
    },
    "tags": []
   },
   "outputs": [
    {
     "name": "stderr",
     "output_type": "stream",
     "text": [
      "E:\\Anaconda\\lib\\site-packages\\seaborn\\_decorators.py:36: FutureWarning: Pass the following variables as keyword args: x, y. From version 0.12, the only valid positional argument will be `data`, and passing other arguments without an explicit keyword will result in an error or misinterpretation.\n",
      "  warnings.warn(\n"
     ]
    },
    {
     "data": {
      "text/plain": [
       "(array([ 0,  1,  2,  3,  4,  5,  6,  7,  8,  9, 10, 11, 12, 13, 14, 15, 16,\n",
       "        17, 18, 19, 20, 21, 22, 23, 24, 25, 26, 27, 28, 29, 30, 31, 32, 33,\n",
       "        34, 35, 36, 37, 38, 39, 40, 41]),\n",
       " [Text(0, 0, 'BTM'),\n",
       "  Text(1, 0, 'Banashankari'),\n",
       "  Text(2, 0, 'Banaswadi'),\n",
       "  Text(3, 0, 'Bannerghatta Road'),\n",
       "  Text(4, 0, 'Basavanagudi'),\n",
       "  Text(5, 0, 'Bellandur'),\n",
       "  Text(6, 0, 'Brigade Road'),\n",
       "  Text(7, 0, 'Brookefield'),\n",
       "  Text(8, 0, 'Church Street'),\n",
       "  Text(9, 0, 'Commercial Street'),\n",
       "  Text(10, 0, 'Cunningham Road'),\n",
       "  Text(11, 0, 'Domlur'),\n",
       "  Text(12, 0, 'Ejipura'),\n",
       "  Text(13, 0, 'Electronic City'),\n",
       "  Text(14, 0, 'Frazer Town'),\n",
       "  Text(15, 0, 'HSR'),\n",
       "  Text(16, 0, 'Indiranagar'),\n",
       "  Text(17, 0, 'JP Nagar'),\n",
       "  Text(18, 0, 'Jayanagar'),\n",
       "  Text(19, 0, 'Kalyan Nagar'),\n",
       "  Text(20, 0, 'Kammanahalli'),\n",
       "  Text(21, 0, 'Koramangala 1st Block'),\n",
       "  Text(22, 0, 'Koramangala 4th Block'),\n",
       "  Text(23, 0, 'Koramangala 5th Block'),\n",
       "  Text(24, 0, 'Koramangala 6th Block'),\n",
       "  Text(25, 0, 'Koramangala 7th Block'),\n",
       "  Text(26, 0, 'Lavelle Road'),\n",
       "  Text(27, 0, 'MG Road'),\n",
       "  Text(28, 0, 'Malleshwaram'),\n",
       "  Text(29, 0, 'Marathahalli'),\n",
       "  Text(30, 0, 'New BEL Road'),\n",
       "  Text(31, 0, 'Old Airport Road'),\n",
       "  Text(32, 0, 'Rajajinagar'),\n",
       "  Text(33, 0, 'Residency Road'),\n",
       "  Text(34, 0, 'Richmond Road'),\n",
       "  Text(35, 0, 'Sarjapur Road'),\n",
       "  Text(36, 0, 'Shanti Nagar'),\n",
       "  Text(37, 0, 'Shivajinagar'),\n",
       "  Text(38, 0, 'St. Marks Road'),\n",
       "  Text(39, 0, 'Ulsoor'),\n",
       "  Text(40, 0, 'Whitefield'),\n",
       "  Text(41, 0, 'other')])"
      ]
     },
     "execution_count": 92,
     "metadata": {},
     "output_type": "execute_result"
    },
    {
     "data": {
      "image/png": "[encoded data removed]",
      "text/plain": [
       "<Figure size 1440x720 with 1 Axes>"
      ]
     },
     "metadata": {
      "needs_background": "light"
     },
     "output_type": "display_data"
    }
   ],
   "source": [
    "df4=data[['location','votes']]\n",
    "df4=df4.groupby(['location'])['votes'].sum()\n",
    "df4=df4.to_frame()\n",
    "plt.figure(figsize=(20,10))\n",
    "sns.barplot(df4.index,df4.votes)\n",
    "plt.xticks(rotation=90)"
   ]
  },
  {
   "cell_type": "code",
   "execution_count": 93,
   "metadata": {
    "execution": {
     "iopub.execute_input": "2021-06-20T09:12:03.157585Z",
     "iopub.status.busy": "2021-06-20T09:12:03.156629Z",
     "iopub.status.idle": "2021-06-20T09:12:03.165814Z",
     "shell.execute_reply": "2021-06-20T09:12:03.165233Z",
     "shell.execute_reply.started": "2021-06-20T08:29:39.844203Z"
    },
    "papermill": {
     "duration": 0.113327,
     "end_time": "2021-06-20T09:12:03.165962",
     "exception": false,
     "start_time": "2021-06-20T09:12:03.052635",
     "status": "completed"
    },
    "tags": []
   },
   "outputs": [],
   "source": [
    "df5=data[['cuisines','votes']]\n",
    "df5=df5.groupby(['cuisines'])['votes'].sum()\n",
    "df5=df5.to_frame()\n",
    "df5=df5.sort_values(by='votes',ascending=False)"
   ]
  },
  {
   "cell_type": "code",
   "execution_count": 94,
   "metadata": {
    "execution": {
     "iopub.execute_input": "2021-06-20T09:12:03.355234Z",
     "iopub.status.busy": "2021-06-20T09:12:03.354256Z",
     "iopub.status.idle": "2021-06-20T09:12:03.357195Z",
     "shell.execute_reply": "2021-06-20T09:12:03.356612Z",
     "shell.execute_reply.started": "2021-06-20T08:30:14.744236Z"
    },
    "papermill": {
     "duration": 0.097888,
     "end_time": "2021-06-20T09:12:03.357351",
     "exception": false,
     "start_time": "2021-06-20T09:12:03.259463",
     "status": "completed"
    },
    "tags": []
   },
   "outputs": [],
   "source": [
    "df5=df5.iloc[1:,:]"
   ]
  },
  {
   "cell_type": "code",
   "execution_count": 95,
   "metadata": {
    "execution": {
     "iopub.execute_input": "2021-06-20T09:12:03.540668Z",
     "iopub.status.busy": "2021-06-20T09:12:03.539705Z",
     "iopub.status.idle": "2021-06-20T09:12:05.046369Z",
     "shell.execute_reply": "2021-06-20T09:12:05.046872Z",
     "shell.execute_reply.started": "2021-06-20T08:31:21.163144Z"
    },
    "papermill": {
     "duration": 1.599952,
     "end_time": "2021-06-20T09:12:05.047040",
     "exception": false,
     "start_time": "2021-06-20T09:12:03.447088",
     "status": "completed"
    },
    "tags": []
   },
   "outputs": [
    {
     "name": "stderr",
     "output_type": "stream",
     "text": [
      "E:\\Anaconda\\lib\\site-packages\\seaborn\\_decorators.py:36: FutureWarning: Pass the following variables as keyword args: x, y. From version 0.12, the only valid positional argument will be `data`, and passing other arguments without an explicit keyword will result in an error or misinterpretation.\n",
      "  warnings.warn(\n"
     ]
    },
    {
     "data": {
      "text/plain": [
       "(array([ 0,  1,  2,  3,  4,  5,  6,  7,  8,  9, 10, 11, 12, 13, 14, 15, 16,\n",
       "        17, 18, 19, 20, 21, 22, 23, 24, 25, 26, 27, 28, 29, 30, 31, 32, 33,\n",
       "        34, 35, 36, 37, 38, 39, 40, 41, 42, 43, 44, 45, 46, 47, 48, 49, 50,\n",
       "        51, 52, 53, 54, 55, 56, 57, 58, 59, 60, 61, 62, 63, 64, 65, 66, 67,\n",
       "        68]),\n",
       " [Text(0, 0, 'North Indian'),\n",
       "  Text(1, 0, 'North Indian, Chinese'),\n",
       "  Text(2, 0, 'South Indian'),\n",
       "  Text(3, 0, 'North Indian, Mughlai'),\n",
       "  Text(4, 0, 'Chinese'),\n",
       "  Text(5, 0, 'Cafe'),\n",
       "  Text(6, 0, 'North Indian, South Indian'),\n",
       "  Text(7, 0, 'Desserts'),\n",
       "  Text(8, 0, 'Chinese, Momos'),\n",
       "  Text(9, 0, 'Ice Cream, Desserts'),\n",
       "  Text(10, 0, 'Cafe, Continental'),\n",
       "  Text(11, 0, 'Biryani, North Indian, Chinese'),\n",
       "  Text(12, 0, 'Chinese, Thai, Momos'),\n",
       "  Text(13, 0, 'South Indian, North Indian, Chinese'),\n",
       "  Text(14, 0, 'Desserts, Beverages'),\n",
       "  Text(15, 0, 'Biryani'),\n",
       "  Text(16, 0, 'Finger Food'),\n",
       "  Text(17, 0, 'Bakery, Desserts'),\n",
       "  Text(18, 0, 'Burger, Fast Food'),\n",
       "  Text(19, 0, 'Continental'),\n",
       "  Text(20, 0, 'Cafe, Desserts'),\n",
       "  Text(21, 0, 'Andhra, Biryani'),\n",
       "  Text(22, 0, 'North Indian, Continental'),\n",
       "  Text(23, 0, 'Pizza, Fast Food'),\n",
       "  Text(24, 0, 'North Indian, Chinese, Biryani'),\n",
       "  Text(25, 0, 'Chinese, Thai'),\n",
       "  Text(26, 0, 'South Indian, North Indian, Chinese, Street Food'),\n",
       "  Text(27, 0, 'Mithai, Street Food'),\n",
       "  Text(28, 0, 'North Indian, South Indian, Chinese'),\n",
       "  Text(29, 0, 'Desserts, Ice Cream'),\n",
       "  Text(30, 0, 'Biryani, North Indian'),\n",
       "  Text(31, 0, 'North Indian, Street Food'),\n",
       "  Text(32, 0, 'Fast Food'),\n",
       "  Text(33, 0, 'North Indian, Chinese, Seafood'),\n",
       "  Text(34, 0, 'Chinese, North Indian'),\n",
       "  Text(35, 0, 'North Indian, Biryani'),\n",
       "  Text(36, 0, 'Biryani, Kebab'),\n",
       "  Text(37, 0, 'Italian, Pizza'),\n",
       "  Text(38, 0, 'North Indian, Chinese, Fast Food'),\n",
       "  Text(39, 0, 'North Indian, Chinese, Continental'),\n",
       "  Text(40, 0, 'Desserts, Bakery'),\n",
       "  Text(41, 0, 'Arabian'),\n",
       "  Text(42, 0, 'North Indian, Chinese, South Indian'),\n",
       "  Text(43, 0, 'Pizza'),\n",
       "  Text(44, 0, 'South Indian, North Indian'),\n",
       "  Text(45, 0, 'North Indian, Mughlai, Chinese'),\n",
       "  Text(46, 0, 'Beverages, Fast Food'),\n",
       "  Text(47, 0, 'South Indian, Biryani'),\n",
       "  Text(48, 0, 'Fast Food, Rolls'),\n",
       "  Text(49, 0, 'Bakery'),\n",
       "  Text(50, 0, 'Andhra'),\n",
       "  Text(51, 0, 'Street Food'),\n",
       "  Text(52, 0, 'Kerala'),\n",
       "  Text(53, 0, 'Cafe, Bakery'),\n",
       "  Text(54, 0, 'Biryani, Fast Food'),\n",
       "  Text(55, 0, 'South Indian, Fast Food'),\n",
       "  Text(56, 0, 'North Indian, Fast Food'),\n",
       "  Text(57, 0, 'Bakery, Fast Food'),\n",
       "  Text(58, 0, 'Fast Food, Burger'),\n",
       "  Text(59, 0, 'Cafe, Fast Food'),\n",
       "  Text(60, 0, 'South Indian, Chinese'),\n",
       "  Text(61, 0, 'Beverages, Desserts'),\n",
       "  Text(62, 0, 'Ice Cream'),\n",
       "  Text(63, 0, 'Beverages'),\n",
       "  Text(64, 0, 'Biryani, South Indian'),\n",
       "  Text(65, 0, 'Kerala, South Indian'),\n",
       "  Text(66, 0, 'Fast Food, Beverages'),\n",
       "  Text(67, 0, 'South Indian, Chinese, North Indian'),\n",
       "  Text(68, 0, 'Mithai')])"
      ]
     },
     "execution_count": 95,
     "metadata": {},
     "output_type": "execute_result"
    },
    {
     "data": {
      "image/png": "[encoded data removed]",
      "text/plain": [
       "<Figure size 1440x720 with 1 Axes>"
      ]
     },
     "metadata": {
      "needs_background": "light"
     },
     "output_type": "display_data"
    }
   ],
   "source": [
    "plt.figure(figsize=(20,10))\n",
    "sns.barplot(df5.index,df5['votes'])\n",
    "plt.xticks(rotation=90)"
   ]
  },
  {
   "cell_type": "code",
   "execution_count": null,
   "metadata": {
    "papermill": {
     "duration": 0.095196,
     "end_time": "2021-06-20T09:12:05.423410",
     "exception": false,
     "start_time": "2021-06-20T09:12:05.328214",
     "status": "completed"
    },
    "tags": []
   },
   "outputs": [],
   "source": []
  }
 ],
 "metadata": {
  "kernelspec": {
   "display_name": "Python 3",
   "language": "python",
   "name": "python3"
  },
  "language_info": {
   "codemirror_mode": {
    "name": "ipython",
    "version": 3
   },
   "file_extension": ".py",
   "mimetype": "text/x-python",
   "name": "python",
   "nbconvert_exporter": "python",
   "pygments_lexer": "ipython3",
   "version": "3.8.5"
  },
  "papermill": {
   "default_parameters": {},
   "duration": 48.041042,
   "end_time": "2021-06-20T09:12:07.345469",
   "environment_variables": {},
   "exception": null,
   "input_path": "__notebook__.ipynb",
   "output_path": "__notebook__.ipynb",
   "parameters": {},
   "start_time": "2021-06-20T09:11:19.304427",
   "version": "2.3.3"
  }
 },
 "nbformat": 4,
 "nbformat_minor": 5
}
